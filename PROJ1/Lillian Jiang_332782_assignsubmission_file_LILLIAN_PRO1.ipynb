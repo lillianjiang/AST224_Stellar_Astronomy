{
 "cells": [
  {
   "cell_type": "markdown",
   "metadata": {},
   "source": [
    " <div class=\"alert alert-block alert-success\">\n",
    "Lillian Jiang - Project 1\n",
    "    \n",
    "<div class=\"alert alert-block alert-warning\">\n",
    "    \n",
    " # grade 18.5/20-- Lillian, you got in trouble on errors by forgetting that subtracting the background requires an error propagation. see comments below. if you subtract the background per pixel from the image than that would require yet another error propagation, which is why I suggested you use the total background counts in the aperture to subtract the from the stellar counts. Also you did not say anything about the PSF of star A and B - its not enough to just show the picture"
   ]
  },
  {
   "cell_type": "code",
   "execution_count": 1,
   "metadata": {},
   "outputs": [],
   "source": [
    "import numpy as np                       #numpy enables functions for data arrays\n",
    "import matplotlib.pyplot as plt          #matplotlib enables plotting routines"
   ]
  },
  {
   "cell_type": "code",
   "execution_count": 2,
   "metadata": {},
   "outputs": [
    {
     "name": "stdout",
     "output_type": "stream",
     "text": [
      "The maximum intensity value is  1742.0\n"
     ]
    },
    {
     "data": {
      "image/png": "[encoded data removed]",
      "text/plain": [
       "<Figure size 720x360 with 2 Axes>"
      ]
     },
     "metadata": {
      "needs_background": "light"
     },
     "output_type": "display_data"
    }
   ],
   "source": [
    "# load four images\n",
    "im1 = np.loadtxt('im1.txt') \n",
    "im2 = np.loadtxt('im2.txt')\n",
    "im3 = np.loadtxt('im3.txt') \n",
    "im4 = np.loadtxt('im4.txt')    \n",
    "\n",
    "im = im1+im2+im3+im4\n",
    "#IMSHOW\n",
    "plt.figure(figsize=(10,5))\n",
    "plt.imshow(im,cmap='coolwarm', vmin=0, vmax=100)\n",
    "plt.grid()\n",
    "plt.colorbar(shrink=0.7)\n",
    "plt.title('IM')\n",
    "\n",
    "#Find the maximum intensity value\n",
    "max = np.max(im)\n",
    "print(\"The maximum intensity value is \",max)"
   ]
  },
  {
   "cell_type": "markdown",
   "metadata": {},
   "source": [
    "<div class=\"alert alert-block alert-warning\">\n",
    "    \n",
    " # there is too much happening in the following code cell, and the printed output is not easy to follow - why are formats for A counts different than B counts? you are extracting apertures, calculating average background and removing it from the stellar apertures. this level of detail needs to be spelled out more clearly, either with a longer markdown cell or separating into multiple code cells\n",
    " \n",
    " # you have not said why you want the average of the background, nor did you print its units of counts per pixel. please give reasons for your calculations in markdown cells"
   ]
  },
  {
   "cell_type": "code",
   "execution_count": 3,
   "metadata": {},
   "outputs": [
    {
     "name": "stdout",
     "output_type": "stream",
     "text": [
      "The average background = 20\n",
      "Aperture Radius_starA = 4\n",
      "Aperture Dimension_starA =(9, 9)\n",
      "[[ 8.000e+00 -1.000e+01  5.000e+00  1.400e+01  9.000e+00  1.800e+01\n",
      "   7.000e+00  2.000e+00 -6.000e+00]\n",
      " [ 2.000e+00  7.000e+00  3.800e+01  1.070e+02  1.080e+02  1.210e+02\n",
      "   4.100e+01  1.300e+01  3.000e+00]\n",
      " [ 9.000e+00  2.600e+01  1.890e+02  4.010e+02  5.660e+02  3.850e+02\n",
      "   1.780e+02  3.700e+01  2.400e+01]\n",
      " [ 8.000e+00  6.400e+01  3.810e+02  9.340e+02  1.323e+03  9.770e+02\n",
      "   3.910e+02  9.900e+01  1.100e+01]\n",
      " [ 4.000e+00  1.200e+02  5.540e+02  1.294e+03  1.722e+03  1.329e+03\n",
      "   5.250e+02  1.220e+02  1.100e+01]\n",
      " [ 1.400e+01  8.100e+01  4.220e+02  9.570e+02  1.284e+03  9.780e+02\n",
      "   4.130e+02  8.800e+01  4.000e+00]\n",
      " [ 3.000e+00  3.700e+01  1.660e+02  4.050e+02  5.490e+02  3.980e+02\n",
      "   2.010e+02  3.100e+01 -5.000e+00]\n",
      " [-1.000e+00  1.800e+01  4.700e+01  9.100e+01  1.250e+02  1.190e+02\n",
      "   4.100e+01  4.000e+00 -1.000e+00]\n",
      " [ 3.000e+00 -2.000e+00  5.000e+00  9.000e+00  1.500e+01  1.500e+01\n",
      "   2.000e+00  2.000e+00 -5.000e+00]]\n",
      "Aperture Radius_starB = 4\n",
      "Aperture Dimension_starB =(9, 9)\n",
      "[[  3.   3.   1.  -2.   4.   5.   0.   0.  -4.]\n",
      " [  6.   3.   6.  13.  28.  14.   7.  -4.   0.]\n",
      " [ -3.  10.  24.  66.  87.  54.  21.   9.  -5.]\n",
      " [  5.  20.  76. 171. 203. 141.  66.  11.  -1.]\n",
      " [  1.  12.  74. 202. 236. 189.  84.  16.   6.]\n",
      " [  2.  11.  56. 144. 196. 132.  58.  17.   1.]\n",
      " [  9.   7.  25.  62.  88.  78.  31.   4.  -3.]\n",
      " [  7.   6.   7.  26.  20.  18.  -7.   3.  -1.]\n",
      " [ -5.   3.   3.   0.   1.   3.   2.   2.   8.]]\n"
     ]
    }
   ],
   "source": [
    "#create 'aperture' with center, radius for background, starA , starB\n",
    "\n",
    "#Calculate the average of background\n",
    "xc_b = 17\n",
    "yc_b = 5\n",
    "rad_b = 4\n",
    "center_b = np.array([xc_b, yc_b])          # x,y position of aperture center in original image\n",
    "xmin_b = xc_b-rad_b; xmax_b = xc_b+rad_b+1       # min,max x values to define aperture subarray\n",
    "ymin_b = yc_b-rad_b; ymax_b = yc_b+rad_b+1       # min,max y values to define aperture subarray\n",
    "aperture_b = im[xmin_b:xmax_b, ymin_b:ymax_b]  # extract subarray 'aperture' from original image\n",
    "dim_ap_b = np.shape(aperture_b)          # dimensions of aperture subarray\n",
    "\n",
    "average_b = int(np.mean(aperture_b))\n",
    "print(\"The average background =\",average_b)\n",
    "\n",
    "# remove background \n",
    "im_b = im-average_b\n",
    "\n",
    "#Aperture for StarA\n",
    "xc_starA = 15\n",
    "yc_starA = 15\n",
    "rad_starA = 4\n",
    "center_starA = np.array([xc_starA, yc_starA])          # x,y position of aperture center in original image\n",
    "xmin_starA = xc_starA-rad_starA; xmax_starA = xc_starA+rad_starA+1       # min,max x values to define aperture subarray\n",
    "ymin_starA = yc_starA-rad_starA; ymax_starA = yc_starA+rad_starA+1       # min,max y values to define aperture subarray\n",
    "aperture_starA = im_b[xmin_starA:xmax_starA, ymin_starA:ymax_starA]  # extract subarray 'aperture' from original image\n",
    "dim_ap_starA = np.shape(aperture_starA)          # dimensions of aperture subarray\n",
    "\n",
    "print (\"Aperture Radius_starA = \" + str(rad_starA))\n",
    "print (\"Aperture Dimension_starA =\" + str(dim_ap_starA) )\n",
    "print(aperture_starA)\n",
    "\n",
    "#Aperture for StarB\n",
    "xc_starB = 7\n",
    "yc_starB = 7\n",
    "rad_starB = 4\n",
    "center_starB = np.array([xc_starB, yc_starB])          # x,y position of aperture center in original image\n",
    "xmin_starB = xc_starB-rad_starB; xmax_starB = xc_starB+rad_starB+1       # min,max x values to define aperture subarray\n",
    "ymin_starB = yc_starB-rad_starB; ymax_starB = yc_starB+rad_starB+1       # min,max y values to define aperture subarray\n",
    "aperture_starB = im_b[xmin_starB:xmax_starB, ymin_starB:ymax_starB]  # extract subarray 'aperture' from original image\n",
    "dim_ap_starB = np.shape(aperture_starB)          # dimensions of aperture subarray\n",
    "\n",
    "print (\"Aperture Radius_starB = \" + str(rad_starB))\n",
    "print (\"Aperture Dimension_starB =\" + str(dim_ap_starB) )\n",
    "print(aperture_starB)\n",
    "\n"
   ]
  },
  {
   "cell_type": "markdown",
   "metadata": {},
   "source": [
    "<div class=\"alert alert-block alert-warning\">\n",
    "    \n",
    "  # state that these star subimages have background subtracted. "
   ]
  },
  {
   "cell_type": "code",
   "execution_count": 4,
   "metadata": {},
   "outputs": [
    {
     "data": {
      "text/plain": [
       "<matplotlib.colorbar.Colorbar at 0x1191409e8>"
      ]
     },
     "execution_count": 4,
     "metadata": {},
     "output_type": "execute_result"
    },
    {
     "data": {
      "image/png": "[encoded data removed]",
      "text/plain": [
       "<Figure size 1440x720 with 6 Axes>"
      ]
     },
     "metadata": {
      "needs_background": "light"
     },
     "output_type": "display_data"
    }
   ],
   "source": [
    "#display subimage 'aperture' with center, radius for background, starA , starB\n",
    "plt.figure(figsize=(20,10))\n",
    "plt.subplot(1,3,1)\n",
    "plt.imshow(aperture_b,cmap='OrRd')\n",
    "plt.title('Aperture_b')\n",
    "plt.colorbar(shrink=0.7)\n",
    "\n",
    "plt.subplot(1,3,2)\n",
    "plt.imshow(aperture_starA,cmap='OrRd')\n",
    "plt.title('Aperture_starA')\n",
    "plt.colorbar(shrink=0.7)\n",
    "\n",
    "plt.subplot(1,3,3)\n",
    "plt.imshow(aperture_starB,cmap='OrRd')\n",
    "plt.title('Aperture_starB')\n",
    "plt.colorbar(shrink=0.7)"
   ]
  },
  {
   "cell_type": "markdown",
   "metadata": {},
   "source": [
    "<div class=\"alert alert-block alert-warning\">\n",
    "    \n",
    "  # why make a second set of stellar apertures? use the ones you already have!"
   ]
  },
  {
   "cell_type": "code",
   "execution_count": 5,
   "metadata": {},
   "outputs": [
    {
     "data": {
      "image/png": "[encoded data removed]",
      "text/plain": [
       "<Figure size 360x360 with 1 Axes>"
      ]
     },
     "metadata": {
      "needs_background": "light"
     },
     "output_type": "display_data"
    }
   ],
   "source": [
    "#create two 11x11 SUBIMAGES for stars centered at (15,15) and (7,7)\n",
    "starA_b= im_b[10:21,10:21]   #A 11x11 array, A now centered at (5,5)\n",
    "starB_b= im_b[2:13,2:13]     #B 11x11 array, B now centered at (5,5)\n",
    "\n",
    "\n",
    "# EXTRACT central row from each 11x11subarray (row 5 centered is on each star) \n",
    "rowA = starA_b[5,:]       #  row across peak of Star A\n",
    "rowB = starB_b[5,:]       #  row across peak of Star B\n",
    "\n",
    "rowA_MAX = np.max(rowA)\n",
    "rowB_MAX = np.max(rowB)\n",
    "\n",
    "plt.figure(figsize=(5,5))\n",
    "plt.plot(rowA/rowA_MAX, linestyle='-', linewidth=2.5, label = 'starA')\n",
    "plt.plot(rowB/rowB_MAX, linestyle='-', linewidth=2.5, label = 'starB')\n",
    "plt.xlabel(\"Pixel\"), plt.ylabel(\"Intensity\")\n",
    "plt.title(\"Point spread function, no Background\", size=15)\n",
    "plt.legend(loc=\"upper left\", frameon=False)\n",
    "plt.grid()"
   ]
  },
  {
   "cell_type": "markdown",
   "metadata": {},
   "source": [
    "<div class=\"alert alert-block alert-warning\">\n",
    "    \n",
    "   # you need a conclusion from the psf plot - that is the whole point of this project..."
   ]
  },
  {
   "cell_type": "code",
   "execution_count": 6,
   "metadata": {},
   "outputs": [
    {
     "name": "stdout",
     "output_type": "stream",
     "text": [
      "The A/B ratio is  6.505571030640668\n"
     ]
    }
   ],
   "source": [
    "#From the coutns for star A and B, find their ratio A/B\n",
    "starA_total=np.sum(aperture_starA)\n",
    "starB_total=np.sum(aperture_starB)\n",
    "ratio = starA_total/starB_total\n",
    "print(\"The A/B ratio is \", ratio)"
   ]
  },
  {
   "cell_type": "markdown",
   "metadata": {},
   "source": [
    "<div class=\"alert alert-block alert-warning\">\n",
    "    \n",
    " # you lost track of what you are doing. use poisson errors only for directly measured counts - that will be sums in apertures BEFORE background subtraction. Subtracting the background involves error propagation, \n",
    " \n",
    " $S_* = S_{tot}-S_{back}$\n",
    " \n",
    " # by subtracting the average background from the images you have made this more complicated, which is why i suggested summing the backgrounds in the same apertures as the stars and subtracting summed counts. your errors are thus incorrect. \n",
    " \n",
    " # Also, in the future please use markdown cells formatted in math mode to present any equations you are using -it is hard to follow the equations in the code cells without some guidance."
   ]
  },
  {
   "cell_type": "code",
   "execution_count": 7,
   "metadata": {},
   "outputs": [
    {
     "name": "stdout",
     "output_type": "stream",
     "text": [
      "The error of ratio A/B is  0.13038942297757936\n",
      "The percent error is  0.02004273296893641\n"
     ]
    }
   ],
   "source": [
    "#In Astronomy, the signals from stars are in counting distrubution. Therefore, the standard error is the square root\n",
    "# of the total signals.\n",
    "starA_error = np.sqrt(starA_total)\n",
    "starB_error = np.sqrt(starB_total)\n",
    "\n",
    "# ratio=starA_total/starB_total \n",
    "# We use error propagation to calculate the error.\n",
    "ratio_error = abs(ratio)*np.sqrt((starA_error/starA_total)**2+(starB_error/starB_total)**2)\n",
    "print(\"The error of ratio A/B is \", ratio_error)\n",
    "pe_error = ratio_error/ratio\n",
    "print(\"The percent error is \", pe_error)"
   ]
  },
  {
   "cell_type": "markdown",
   "metadata": {},
   "source": [
    "<div class=\"alert alert-block alert-success\">\n",
    "    \n",
    "   - The intensity ratio of star A/B is 6.5\n",
    "    \n",
    "   - The error of the ratio is 0.13\n",
    "    \n",
    "   - The percent error in this ratio is 2%\n",
    "   \n",
    "   <div class=\"alert alert-block alert-warning\">\n",
    "    \n",
    "    ## this can also be presesente in math mode:\n",
    "    The intensity ratio of star A/B is 6.5 $\\pm$ 0.13 or $\\pm$ 2%"
   ]
  }
 ],
 "metadata": {
  "kernelspec": {
   "display_name": "Python 3",
   "language": "python",
   "name": "python3"
  },
  "language_info": {
   "codemirror_mode": {
    "name": "ipython",
    "version": 3
   },
   "file_extension": ".py",
   "mimetype": "text/x-python",
   "name": "python",
   "nbconvert_exporter": "python",
   "pygments_lexer": "ipython3",
   "version": "3.7.3"
  }
 },
 "nbformat": 4,
 "nbformat_minor": 2
}
