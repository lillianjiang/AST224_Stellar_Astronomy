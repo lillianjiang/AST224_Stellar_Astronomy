{
 "cells": [
  {
   "cell_type": "markdown",
   "metadata": {},
   "source": [
    " <div class=\"alert alert-block alert-success\">\n",
    "Lillian Jiang - Project 1"
   ]
  },
  {
   "cell_type": "code",
   "execution_count": null,
   "metadata": {},
   "outputs": [],
   "source": [
    "import numpy as np                       #numpy enables functions for data arrays\n",
    "import matplotlib.pyplot as plt          #matplotlib enables plotting routines"
   ]
  },
  {
   "cell_type": "code",
   "execution_count": null,
   "metadata": {},
   "outputs": [],
   "source": [
    "# load four images\n",
    "im1 = np.loadtxt('im1.txt') \n",
    "im2 = np.loadtxt('im2.txt')\n",
    "im3 = np.loadtxt('im3.txt') \n",
    "im4 = np.loadtxt('im4.txt')    \n",
    "\n",
    "im = im1+im2+im3+im4\n",
    "#IMSHOW\n",
    "plt.figure(figsize=(10,5))\n",
    "plt.imshow(im,cmap='coolwarm', vmin=0, vmax=100)\n",
    "plt.grid()\n",
    "plt.colorbar(shrink=0.7)\n",
    "plt.title('IM')\n",
    "\n",
    "#Find the maximum intensity value\n",
    "max = np.max(im)\n",
    "print(\"The maximum intensity value is \",max)"
   ]
  },
  {
   "cell_type": "code",
   "execution_count": null,
   "metadata": {},
   "outputs": [],
   "source": [
    "#create 'aperture' with center, radius for background, starA , starB\n",
    "\n",
    "#Calculate the average of background\n",
    "xc_b = 17\n",
    "yc_b = 5\n",
    "rad_b = 4\n",
    "center_b = np.array([xc_b, yc_b])          # x,y position of aperture center in original image\n",
    "xmin_b = xc_b-rad_b; xmax_b = xc_b+rad_b+1       # min,max x values to define aperture subarray\n",
    "ymin_b = yc_b-rad_b; ymax_b = yc_b+rad_b+1       # min,max y values to define aperture subarray\n",
    "aperture_b = im[xmin_b:xmax_b, ymin_b:ymax_b]  # extract subarray 'aperture' from original image\n",
    "dim_ap_b = np.shape(aperture_b)          # dimensions of aperture subarray\n",
    "\n",
    "average_b = int(np.mean(aperture_b))\n",
    "print(\"The average background =\",average_b)\n",
    "\n",
    "# remove background \n",
    "im_b = im-average_b\n",
    "\n",
    "#Aperture for StarA\n",
    "xc_starA = 15\n",
    "yc_starA = 15\n",
    "rad_starA = 4\n",
    "center_starA = np.array([xc_starA, yc_starA])          # x,y position of aperture center in original image\n",
    "xmin_starA = xc_starA-rad_starA; xmax_starA = xc_starA+rad_starA+1       # min,max x values to define aperture subarray\n",
    "ymin_starA = yc_starA-rad_starA; ymax_starA = yc_starA+rad_starA+1       # min,max y values to define aperture subarray\n",
    "aperture_starA = im_b[xmin_starA:xmax_starA, ymin_starA:ymax_starA]  # extract subarray 'aperture' from original image\n",
    "dim_ap_starA = np.shape(aperture_starA)          # dimensions of aperture subarray\n",
    "\n",
    "print (\"Aperture Radius_starA = \" + str(rad_starA))\n",
    "print (\"Aperture Dimension_starA =\" + str(dim_ap_starA) )\n",
    "print(aperture_starA)\n",
    "\n",
    "#Aperture for StarB\n",
    "xc_starB = 7\n",
    "yc_starB = 7\n",
    "rad_starB = 4\n",
    "center_starB = np.array([xc_starB, yc_starB])          # x,y position of aperture center in original image\n",
    "xmin_starB = xc_starB-rad_starB; xmax_starB = xc_starB+rad_starB+1       # min,max x values to define aperture subarray\n",
    "ymin_starB = yc_starB-rad_starB; ymax_starB = yc_starB+rad_starB+1       # min,max y values to define aperture subarray\n",
    "aperture_starB = im_b[xmin_starB:xmax_starB, ymin_starB:ymax_starB]  # extract subarray 'aperture' from original image\n",
    "dim_ap_starB = np.shape(aperture_starB)          # dimensions of aperture subarray\n",
    "\n",
    "print (\"Aperture Radius_starB = \" + str(rad_starB))\n",
    "print (\"Aperture Dimension_starB =\" + str(dim_ap_starB) )\n",
    "print(aperture_starB)\n",
    "\n"
   ]
  },
  {
   "cell_type": "code",
   "execution_count": null,
   "metadata": {},
   "outputs": [],
   "source": [
    "#display subimage 'aperture' with center, radius for background, starA , starB\n",
    "plt.figure(figsize=(20,10))\n",
    "plt.subplot(1,3,1)\n",
    "plt.imshow(aperture_b,cmap='OrRd')\n",
    "plt.title('Aperture_b')\n",
    "plt.colorbar(shrink=0.7)\n",
    "\n",
    "plt.subplot(1,3,2)\n",
    "plt.imshow(aperture_starA,cmap='OrRd')\n",
    "plt.title('Aperture_starA')\n",
    "plt.colorbar(shrink=0.7)\n",
    "\n",
    "plt.subplot(1,3,3)\n",
    "plt.imshow(aperture_starB,cmap='OrRd')\n",
    "plt.title('Aperture_starB')\n",
    "plt.colorbar(shrink=0.7)"
   ]
  },
  {
   "cell_type": "code",
   "execution_count": null,
   "metadata": {},
   "outputs": [],
   "source": [
    "#create two 11x11 SUBIMAGES for stars centered at (15,15) and (7,7)\n",
    "starA_b= im_b[10:21,10:21]   #A 11x11 array, A now centered at (5,5)\n",
    "starB_b= im_b[2:13,2:13]     #B 11x11 array, B now centered at (5,5)\n",
    "\n",
    "\n",
    "# EXTRACT central row from each 11x11subarray (row 5 centered is on each star) \n",
    "rowA = starA_b[5,:]       #  row across peak of Star A\n",
    "rowB = starB_b[5,:]       #  row across peak of Star B\n",
    "\n",
    "rowA_MAX = np.max(rowA)\n",
    "rowB_MAX = np.max(rowB)\n",
    "\n",
    "plt.figure(figsize=(5,5))\n",
    "plt.plot(rowA/rowA_MAX, linestyle='-', linewidth=2.5, label = 'starA')\n",
    "plt.plot(rowB/rowB_MAX, linestyle='-', linewidth=2.5, label = 'starB')\n",
    "plt.xlabel(\"Pixel\"), plt.ylabel(\"Intensity\")\n",
    "plt.title(\"Point spread function, no Background\", size=15)\n",
    "plt.legend(loc=\"upper left\", frameon=False)\n",
    "plt.grid()"
   ]
  },
  {
   "cell_type": "code",
   "execution_count": null,
   "metadata": {},
   "outputs": [],
   "source": [
    "#From the coutns for star A and B, find their ratio A/B\n",
    "starA_total=np.sum(aperture_starA)\n",
    "starB_total=np.sum(aperture_starB)\n",
    "ratio = starA_total/starB_total\n",
    "print(\"The A/B ratio is \", ratio)"
   ]
  },
  {
   "cell_type": "code",
   "execution_count": null,
   "metadata": {},
   "outputs": [],
   "source": [
    "#In Astronomy, the signals from stars are in counting distrubution. Therefore, the standard error is the square root\n",
    "# of the total signals.\n",
    "starA_error = np.sqrt(starA_total)\n",
    "starB_error = np.sqrt(starB_total)\n",
    "\n",
    "# ratio=starA_total/starB_total \n",
    "# We use error propagation to calculate the error.\n",
    "ratio_error = abs(ratio)*np.sqrt((starA_error/starA_total)**2+(starB_error/starB_total)**2)\n",
    "print(\"The error of ratio A/B is \", ratio_error)\n",
    "pe_error = ratio_error/ratio\n",
    "print(\"The percent error is \", pe_error)"
   ]
  },
  {
   "cell_type": "markdown",
   "metadata": {},
   "source": [
    "<div class=\"alert alert-block alert-success\">\n",
    "    \n",
    "   - The intensity ratio of star A/B is 6.5\n",
    "    \n",
    "   - The error of the ratio is 0.13\n",
    "    \n",
    "   - The percent error in this ratio is 2%"
   ]
  }
 ],
 "metadata": {
  "kernelspec": {
   "display_name": "Python 3",
   "language": "python",
   "name": "python3"
  },
  "language_info": {
   "codemirror_mode": {
    "name": "ipython",
    "version": 3
   },
   "file_extension": ".py",
   "mimetype": "text/x-python",
   "name": "python",
   "nbconvert_exporter": "python",
   "pygments_lexer": "ipython3",
   "version": "3.7.3"
  }
 },
 "nbformat": 4,
 "nbformat_minor": 2
}
