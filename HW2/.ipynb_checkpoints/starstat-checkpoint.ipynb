{
 "cells": [
  {
   "cell_type": "markdown",
   "metadata": {},
   "source": [
    "# STAR STAT\n",
    "\n",
    "modify this notebook to answer questions on errors in HW2\n",
    "\n",
    "goal is to examine errors in photometry from digital images\n",
    "\n"
   ]
  },
  {
   "cell_type": "code",
   "execution_count": null,
   "metadata": {},
   "outputs": [],
   "source": [
    "import numpy as np                       #numpy enables functions for data arrays\n",
    "import matplotlib.pyplot as plt          #matplotlib enables plotting routines\n",
    "from scipy import stats                  # need for linear regression\n"
   ]
  },
  {
   "cell_type": "markdown",
   "metadata": {},
   "source": [
    "## DATA "
   ]
  },
  {
   "cell_type": "code",
   "execution_count": null,
   "metadata": {},
   "outputs": [],
   "source": [
    "# load the file stardat.txt into array star, print it\n",
    "stars = np.loadtxt(\"stardat.txt\")\n",
    "print(stars)"
   ]
  },
  {
   "cell_type": "code",
   "execution_count": null,
   "metadata": {},
   "outputs": [],
   "source": [
    "# calculate the mean, standard deviation and percent error for stars 1-9\n",
    "# use these functions: file.mean(axis=0) file.std(axis=0)\n",
    "mean_star = stars.mean(axis=0)\n",
    "std_star = stars.std(axis=0)\n",
    "pe_star = std_star/mean_star\n",
    "# calculate the log of the mean, standard deviation and percent error for stars 1-9\n",
    "log_mean = np.log10(mean_star)\n",
    "log_std = np.log10(std_star)\n",
    "log_pe = np.log10(pe_star)\n",
    "print(mean_star[0])"
   ]
  },
  {
   "cell_type": "markdown",
   "metadata": {},
   "source": [
    "## GRAPHS"
   ]
  },
  {
   "cell_type": "code",
   "execution_count": null,
   "metadata": {
    "scrolled": true
   },
   "outputs": [],
   "source": [
    "# plot relations for signal, noise, percent error\n",
    "# use plt.subplot (2,2,n) to put 4 graphs in one figure, qt for external fig\n",
    "#%matplotlib qt\n",
    "plt.figure(figsize=(10,10))\n",
    "\n",
    "\n",
    "plt.subplot(2,2,1)\n",
    "plt.plot(mean_star,std_star,'*-')\n",
    "plt.grid()\n",
    "plt.xlabel('mean_star')\n",
    "plt.ylabel('std_star')\n",
    "\n",
    "plt.subplot(2,2,2)\n",
    "plt.plot(mean_star,pe_star,'*-')\n",
    "plt.grid()\n",
    "plt.xlabel('mean_star')\n",
    "plt.ylabel('pe_star')\n",
    "\n",
    "plt.subplot(2,2,3)\n",
    "plt.plot(log_mean,log_std,'*-')\n",
    "plt.grid()\n",
    "plt.xlabel('log_mean_star')\n",
    "plt.ylabel('log_std_star')\n",
    "from scipy import stats\n",
    "slope, intercept, r_value, p_value, std_err = stats.linregress(log_mean, log_std)\n",
    "line = slope * log_mean + intercept\n",
    "plt.plot(log_mean,line,'r--')\n",
    "plt.text(2,1.8,'slope ='+str(slope),size=10)\n",
    "\n",
    "plt.subplot(2,2,4)\n",
    "plt.plot(log_mean,log_pe,'*-')\n",
    "plt.grid()\n",
    "plt.xlabel('log_mean_star')\n",
    "plt.ylabel('log_pe_star')\n",
    "from scipy import stats\n",
    "slope, intercept, r_value, p_value, std_err = stats.linregress(log_mean, log_pe)\n",
    "line = slope * log_mean + intercept\n",
    "plt.plot(log_mean,line,'r--')\n",
    "plt.text(2,-2,'slope ='+str(slope),size=10)\n",
    "#get slope, y intercept for any linear relations, use for best fit line\n",
    "# slope, intercept, r_value, p_value, std_err = stats.linregress(x, y)\n",
    "#line = slope * x + intercept, add line to linear plots\n"
   ]
  },
  {
   "cell_type": "code",
   "execution_count": null,
   "metadata": {},
   "outputs": [],
   "source": [
    "#calculate Ratio between STAR1 and STAR2\n",
    "R_A = mean_star[0]\n",
    "R_B = mean_star[1]\n",
    "R = R_A/R_B\n",
    "print(\"R12 =\", R)\n",
    "\n",
    "std_A = std_star[0]/R_A\n",
    "std_B = std_star[1]/R_B\n",
    "std_R = abs(R)*np.sqrt(std_A**2+std_B**2)\n",
    "print(\"error12  \", std_R)\n",
    "print(\"% error12 =\", 100*std_R/R)\n"
   ]
  },
  {
   "cell_type": "code",
   "execution_count": null,
   "metadata": {},
   "outputs": [],
   "source": [
    "#calculate Ratio between STAR1 and STAR\n",
    "R_A = mean_star[0]\n",
    "R_B = mean_star[8]\n",
    "R = R_A/R_B\n",
    "print(\"R19 =\", R)\n",
    "\n",
    "std_A = std_star[0]/R_A\n",
    "std_B = std_star[8]/R_B\n",
    "std_R = abs(R)*np.sqrt(std_A**2+std_B**2)\n",
    "print(\"error19  \", std_R)\n",
    "print(\"% 19 =\", 100*std_R/R)"
   ]
  },
  {
   "cell_type": "code",
   "execution_count": null,
   "metadata": {},
   "outputs": [],
   "source": [
    "print(\"error in Sobs = \", np.sqrt(200))\n",
    "print(\"error in Btot =\",np.sqrt(30))\n",
    "print(\"error in star =\", np.sqrt(14.142*14.142+5.477*5.477))"
   ]
  }
 ],
 "metadata": {
  "kernelspec": {
   "display_name": "Python 3",
   "language": "python",
   "name": "python3"
  },
  "language_info": {
   "codemirror_mode": {
    "name": "ipython",
    "version": 3
   },
   "file_extension": ".py",
   "mimetype": "text/x-python",
   "name": "python",
   "nbconvert_exporter": "python",
   "pygments_lexer": "ipython3",
   "version": "3.7.3"
  }
 },
 "nbformat": 4,
 "nbformat_minor": 2
}
