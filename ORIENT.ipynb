{
 "cells": [
  {
   "cell_type": "markdown",
   "metadata": {},
   "source": [
    "# PYTHON \n",
    "\n",
    "__[Python](https://www.python.org/)__ is a freely-available high-level programming language that is used extensively for web and app development as well as scientific applications and is rapidly becoming the standard in research astronomy. We will be using Python Version 3.7. Python is most easily installed and run through a distribution platform called __[Anaconda](https://www.anaconda.com/distribution/)__. After installation the **Anaconda Navigator** package will appear on your toolbar, symbolized as a green ring. Upon opening Navigator the *Home* menu appears, with options to launch various packages. The *Learning* menu has links to tutorials and documentation.\n",
    "\n",
    "We will be using what is called Interactive Python, usually within a *Jupyter Notebook*, but sometimes in line command mode from a terminal window.  \n",
    "\n",
    "* __Jupyter Notebooks__ offer a means of editing and running a sequence of Python commands from a web browser window. A Notebook combines code, explanatory text, mathematics, output, plots-- all in a single document. It is formatted in blocks called *cells* that can be run one cell at a time or all together. We will be using Jupyter Notebooks for assigments in this class. Notebooks always have extension **.ipynb**. They are described in the following cell.\n",
    "\n",
    "\n",
    "* __Command Line interactive mode__ allows you to execute Python commands one line at a time.  Just open a terminal window and type **ipython**. (Open terminal either from the taskbar or from Navigator via Environments/base(root)/open terminal.) The terminal prompt will change from \"\\$\" to In[n], where n = 1, 2, 3, etc. marks the sequential number of each input command. Executing python commands one line at a time is a great way to see if you have the correct command syntax. Try typing 1+1 on the command line. To exit ipython, type (parentheses included!): **`exit()`** and the \"\\$\" prompt will return. **This mode can be run simultaneously with a Jupyter Notebook**. \n",
    "\n"
   ]
  },
  {
   "cell_type": "markdown",
   "metadata": {},
   "source": [
    " \n",
    "# Jupyter Notebooks\n",
    "\n",
    "To begin a Notebook session, either launch **Jupyter Notebook** from the *Anaconda Home* menu (not JupyterLab!) or open a terminal window and type **jupyter notebook** . A browser window will open to a top level directory in your computer. Move to the desired directory in the usual way. (Be sure you have a directory for AST224, and subdirectories  for each project.) Once in the right directory either open an existing notebook, identified by the *.ipynb* extension, or click on 'New > Python 3' in the upper right corner of the browser window to start a fresh notebook. Note that there is an extensive set of menu options on the top toolbar of the Notebook page.\n",
    " \n",
    "## Cells\n",
    "\n",
    "Jupyter notebooks have two kinds of cells: **Markdown** and **Code** cells. Markdown cells hold text, such as comments, directions, or notes. Code cells hold the Python programming commands and are the heart of the notebook. The key feature of Jupyter is that it integrates markdown, code, ***and*** output all in the same document, so that it acts as a lab notebook. \n",
    "\n",
    "Click on a cell to activate it. A Cell is in **edit mode** when it has a green border (double click inside the cell), and is in **command mode** when it has a blue border (click between border and cell).  Both types of cell can be __EXECUTED__ with either\n",
    "\n",
    "* _CTRL+enter_ (cursor stays in current cell) \n",
    "* _SHIFT+enter_ (cursor goes to next cell)\n",
    "\n",
    "**Markdown Cells**:  Markdown cells, such as this one, only contain text.  In **edit mode** (green border) you can add text with markup symbols that specify fonts, headers, etc.  In **command mode** ( blue border) you can perform functions like inserting cells above or below, deleting a cell, merging cells, etc. Executing a markdown cell shows you the formatted text. \n",
    "\n",
    "**Code Cells** Code cells like the one below are identified by In [ ]: in the left margin.   Code cells also have **edit mode** (green border) and **command mode** (blue border).  Executing a code cell gives the output of the code. After executing, a number 'n' appears in the bracket, In[n], where 'n' is the sequential number in which the code cell is  executed. It will be followed by a newly generated output bracket Out[n]. Execute the code cell below.\n"
   ]
  },
  {
   "cell_type": "code",
   "execution_count": null,
   "metadata": {},
   "outputs": [],
   "source": [
    "1+2+3"
   ]
  },
  {
   "cell_type": "markdown",
   "metadata": {},
   "source": [
    "## Changing Cell type: Markdown to Code and vice versa\n",
    "* A new cell is always a code cell\n",
    "* Convert a code cell into a markup cell by typing **m** in the left margin\n",
    "* Convert a markup cell into a code cell by typing **y** in the left margin\n",
    "* Cell conversions can also be executed from the \"Cell\" menu in the jupyter taskbar"
   ]
  },
  {
   "cell_type": "markdown",
   "metadata": {},
   "source": [
    "<div class=\"alert alert-block alert-info\">\n",
    "    \n",
    "# EDIT MODE"
   ]
  },
  {
   "cell_type": "markdown",
   "metadata": {},
   "source": [
    "## Editing Markdown cells\n",
    "Enter edit mode by double clicking in a cell; be sure the green border appears. Enter your edit and execute the cell to see the desired formatting.\n",
    "\n",
    "* Create HEADER notation by preceding text with #, ##, ###, etc, followed by a space\n",
    "* Emphasis is done by encapsulating a word or phrase with * or _ for italics, ** or __ for bold.\n",
    "* Bulleted lists are created by starting each line with * followed by a space\n",
    "* Numbered lists are created by starting each line with 1., 2., 3., etc. and a space. \n",
    "* Add a hyperlink with a web address like I did here:  [Markdown from IBM](https://www.ibm.com/support/knowledgecenter/en/SSGNPV_1.1.3/dsx/markd-jupyter.html) (view in edit mode)"
   ]
  },
  {
   "cell_type": "markdown",
   "metadata": {},
   "source": [
    "## Editing Code Cells\n",
    "Enter edit mode by double clicking in a cell; be sure the green border appears. Enter python commands, one per line.  You can enter a comment in the code cell by preceding a line with \\#,  or adding \\# to the right of the command.  See below and execute the cell.\n"
   ]
  },
  {
   "cell_type": "code",
   "execution_count": null,
   "metadata": {},
   "outputs": [],
   "source": [
    "# here is a good place for a comment\n",
    "2+3                    # I can add two numbers!"
   ]
  },
  {
   "cell_type": "markdown",
   "metadata": {},
   "source": [
    "## Editing Commands for Markdown or Code Cell\n",
    "\n",
    "* to undo a text deletion: CMD-z \n",
    "* to redo a text delection: CMD-Shift-z\n",
    "* to toggle all selected lines to comment/uncomment: CMD /\n",
    "* a Keyboard Shortcut menu is in the Help tab (above)"
   ]
  },
  {
   "cell_type": "markdown",
   "metadata": {},
   "source": [
    "<div class=\"alert alert-block alert-info\">\n",
    "\n",
    "# Command Mode"
   ]
  },
  {
   "cell_type": "markdown",
   "metadata": {},
   "source": [
    "\n",
    "In command mode you maneuver  entire cells. Enter command mode (blue border) with ESC or clicking in the left margin. Here are a few options:\n",
    "* From a selected cell, an 'a' will insert a new cell above, 'b' will insert a new cell below, 'dd' will delete the selected cell, 'z' will undo the delete. \n",
    "* A new cell appears as a code cell, to change it to markdown, select it in command mode and hit **'m'**, to change it back to code hit **'y'**.\n",
    "* Split the current cell into two with Ctrl + Shift + -  at the location of the cursor.\n",
    "* Arrow keys move up or down through cells\n",
    "* Select multiple cells with shift+down arrow, or shift+up arrow\n",
    "* Move cells up or down with the arrow buttons on the jupyter taskbar\n",
    "* A  list for command mode syntax: [Kapeli Cheatsheet](https://kapeli.com/cheat_sheets/iPython_Notebook.docset/Contents/Resources/Documents/index)\n",
    "\n",
    "There is also a menu of common command cell options on the Jupyter window Cell taskbar  as an alternate means of carrying out commands. Also check out the Keyboard Shortcuts under the Help menu."
   ]
  },
  {
   "cell_type": "markdown",
   "metadata": {},
   "source": [
    "## Jupyter Best Practices for Homework \n",
    "\n",
    "1. Use markup cells generously --  a short introduction to the goal, inserting comments before each new calcuation, including algebraic equations, defining variables and units, etc. Use large fonts to delineate different sections of your code.\n",
    "\n",
    "2. In addition to explanatory text in markup cells, also use comments (\\#) in code cells to clarify what is happening.\n",
    "\n",
    "3. Variable names are case sensitive! Choose variable names that identify its significance, e.g. star, counts, not x, y.  Be sure to create a new variable name for each new quantity you calculate. \n",
    "\n",
    "4. Although code cells in Jupyter can be run in any order (hence the sequential number in brackets), plan your notebooks to always execute cells in the order they appear. If you note a mistake in an earlier cell and go back to correct it, be careful to also re-execute any cells that depend on it. If you want to do a calculation similar to one that you executed in a previous cell, copy the contents of that cell into a new cell, rename the variables, make the changes, and execute it.\n",
    "\n",
    "5. Make sure all answers are clearly labeled and easily found. Ditto for graphical output.\n"
   ]
  },
  {
   "cell_type": "markdown",
   "metadata": {},
   "source": [
    "# Closing Down\n"
   ]
  },
  {
   "cell_type": "markdown",
   "metadata": {},
   "source": [
    "When you're done editing a Notebook, click *Restart & Clear Output* from the \"Kernel\" menu at the top of the jupyter window. **Restarting the kernel clears the code output, not the code itself**, so you will not be losing your work! Hit the *save* icon and then *Close and Halt* from the \"File\" menu to close the current notebook. \n",
    "\n",
    "To shut down the whole notebook server go back to the original window where you started things up and select *Logout*. Then quit Anaconda navigator and type CTRL C in the terminal window to terminate the processes, then exit terminal.\n",
    "\n",
    "**In preparation for handing in homework**, *Restart & Clear Output* under the \"Kernel\" menu and then *Run All* from the \"Cell\" menu to re-execute the whole notebook from start to finish. This tests whether your  code output will work for me when I run it.  Check it carefully! When satisfied, *Restart and Clear Output* again, execute any markup cells (not code cells) that aren't already formattted, so it looks neat. You might want to \"Download As\" a pdf (via LaTex) file from the File menu for your records.  Now just hit the *save icon* and its ready to submit!  "
   ]
  },
  {
   "cell_type": "markdown",
   "metadata": {},
   "source": [
    "<div class=\"alert alert-block alert-info\">\n",
    "    \n",
    "#  Try some simple python code\n",
    "\n",
    "Lets experiment using the basic arithmetic operations plus (+), minus (-), times (\\*), divide (/), and raise to a power (\\*\\*). Execute the code cells below and make sure that you understand how they work before moving on."
   ]
  },
  {
   "cell_type": "code",
   "execution_count": null,
   "metadata": {},
   "outputs": [],
   "source": [
    "2*3"
   ]
  },
  {
   "cell_type": "code",
   "execution_count": null,
   "metadata": {},
   "outputs": [],
   "source": [
    "2**3"
   ]
  },
  {
   "cell_type": "code",
   "execution_count": null,
   "metadata": {},
   "outputs": [],
   "source": [
    "1+2*3"
   ]
  },
  {
   "cell_type": "code",
   "execution_count": null,
   "metadata": {},
   "outputs": [],
   "source": [
    "(1+2)*3"
   ]
  },
  {
   "cell_type": "markdown",
   "metadata": {},
   "source": [
    "<div class=\"alert alert-block alert-info\">\n",
    "    Define variables x, y as follows: x = $2.5x10^4$  and  y = $8.1x10^3$ "
   ]
  },
  {
   "cell_type": "code",
   "execution_count": null,
   "metadata": {},
   "outputs": [],
   "source": [
    "x = 2.5e4\n",
    "y = 8.1e3\n",
    "print(x), print(y)\n",
    ";"
   ]
  },
  {
   "cell_type": "markdown",
   "metadata": {},
   "source": [
    "<div class=\"alert alert-block alert-info\">\n",
    "    Now calculate the variables a, b, c from x,y "
   ]
  },
  {
   "cell_type": "markdown",
   "metadata": {},
   "source": [
    "<div class=hw>\n",
    "a = $x^3$"
   ]
  },
  {
   "cell_type": "code",
   "execution_count": null,
   "metadata": {},
   "outputs": [],
   "source": [
    " a = x**3\n",
    "print(a)"
   ]
  },
  {
   "cell_type": "markdown",
   "metadata": {},
   "source": [
    "<div class=hw>\n",
    "b= $\\sqrt{y}$  "
   ]
  },
  {
   "cell_type": "code",
   "execution_count": null,
   "metadata": {},
   "outputs": [],
   "source": [
    "b = y**0.5\n",
    "print(y)"
   ]
  },
  {
   "cell_type": "markdown",
   "metadata": {},
   "source": [
    "<div class=hw>\n",
    "c= $\\frac{2x+y^3}{2}$"
   ]
  },
  {
   "cell_type": "code",
   "execution_count": null,
   "metadata": {},
   "outputs": [],
   "source": [
    "# you do it!\n",
    "c = (2*x + y**3)/2\n",
    "print(c)"
   ]
  },
  {
   "cell_type": "markdown",
   "metadata": {},
   "source": [
    "You have now defined the variables a, b, c. To see your defined variables, type *whos* in a code cell and execute it."
   ]
  },
  {
   "cell_type": "code",
   "execution_count": null,
   "metadata": {},
   "outputs": [],
   "source": [
    "%whos"
   ]
  },
  {
   "cell_type": "markdown",
   "metadata": {},
   "source": [
    "<div class=\"alert alert-block alert-info\"> \n",
    "    \n",
    " ## Variable types\n",
    "    \n",
    "In programming, two common variable *types* are whole numbers (*integer*, or **int**) or fractional numbers (*floating point*, or **float**). You can ask Python for the type: "
   ]
  },
  {
   "cell_type": "code",
   "execution_count": null,
   "metadata": {},
   "outputs": [],
   "source": [
    "s = 5\n",
    "print(s)\n",
    "type(s)"
   ]
  },
  {
   "cell_type": "code",
   "execution_count": null,
   "metadata": {},
   "outputs": [],
   "source": [
    "t = s/2\n",
    "print(t)\n",
    "type(t)"
   ]
  },
  {
   "cell_type": "markdown",
   "metadata": {},
   "source": [
    "On a computer, operations involving integers are exact: 1 + 1 is exactly 2 while operations on real numbers are necessarily inexact since a real number is capable of having an arbitrary number of decimal places. Thus it is not possible to perform operations on arbitrary real numbers to exact precision and arithmetic operations on floating point numbers are approximate, with the level of accuracy determined by factors like how much memory one wants to devote to storing digits, and how much processor time one wants to spend manipulating them. On modern computers a python floating point number is accurate to about 1 in 10^15, which is fine for our purposes! Nevertheless, python keeps track of int vs float.\n",
    "\n",
    "A third type of variable is *strings*, abbreviated **str**. A string is a sequence of text characters often in a name or label. One can declare a string by putting characters in quotation marks (either \" or '). Without the quotations, python will think the variable is a number."
   ]
  },
  {
   "cell_type": "code",
   "execution_count": null,
   "metadata": {},
   "outputs": [],
   "source": [
    "d = \"star\"\n",
    "print (d)\n",
    "type (d)"
   ]
  },
  {
   "cell_type": "markdown",
   "metadata": {},
   "source": [
    "Obviously we can't add strings in the same sense that we add numbers, but we can still do operations on them. The plus operation concatenates two strings together:"
   ]
  },
  {
   "cell_type": "code",
   "execution_count": null,
   "metadata": {},
   "outputs": [],
   "source": [
    "e = \"planet\"\n",
    "print (d+e)"
   ]
  },
  {
   "cell_type": "code",
   "execution_count": null,
   "metadata": {},
   "outputs": [],
   "source": [
    "%whos"
   ]
  },
  {
   "cell_type": "code",
   "execution_count": null,
   "metadata": {},
   "outputs": [],
   "source": []
  }
 ],
 "metadata": {
  "anaconda-cloud": {},
  "kernelspec": {
   "display_name": "Python 3",
   "language": "python",
   "name": "python3"
  },
  "language_info": {
   "codemirror_mode": {
    "name": "ipython",
    "version": 3
   },
   "file_extension": ".py",
   "mimetype": "text/x-python",
   "name": "python",
   "nbconvert_exporter": "python",
   "pygments_lexer": "ipython3",
   "version": "3.7.3"
  }
 },
 "nbformat": 4,
 "nbformat_minor": 2
}
