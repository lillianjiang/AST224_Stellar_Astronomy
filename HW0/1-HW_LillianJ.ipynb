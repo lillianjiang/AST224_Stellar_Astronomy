{
 "cells": [
  {
   "cell_type": "markdown",
   "metadata": {},
   "source": [
    "<div class=\"alert alert-block alert-info\">\n",
    "    \n",
    "# Template for my first Jupyter Notebook Assignment\n"
   ]
  },
  {
   "cell_type": "code",
   "execution_count": null,
   "metadata": {},
   "outputs": [],
   "source": [
    "# import packages \n",
    "import numpy as np\n",
    "import matplotlib.pyplot as plt \n"
   ]
  },
  {
   "cell_type": "markdown",
   "metadata": {},
   "source": [
    "<div class=\"alert alert-block alert-info\">\n",
    "\n",
    "# NUMPY"
   ]
  },
  {
   "cell_type": "markdown",
   "metadata": {},
   "source": [
    "##  Four 1D Arrays using np.array, np.random.rand, np.linspace, np.arange"
   ]
  },
  {
   "cell_type": "code",
   "execution_count": null,
   "metadata": {},
   "outputs": [],
   "source": [
    "x = np.array([1,2,3])\n",
    "print(\"arr =\",x)\n",
    "y = np.random.rand(1,2)\n",
    "print(\"rand =\",y)\n",
    "z = np.linspace(0,10,5)\n",
    "print(\"linspace =\",z)\n",
    "t = np.arange(1,10,1)\n",
    "print(\"arange =\",t)"
   ]
  },
  {
   "cell_type": "markdown",
   "metadata": {},
   "source": [
    "##  One 2D Array using np.array"
   ]
  },
  {
   "cell_type": "code",
   "execution_count": null,
   "metadata": {
    "scrolled": true
   },
   "outputs": [],
   "source": [
    "x2d = np.array([[1,2,3],[3,4,5]])\n",
    "print(\"x2d =\", x2d)"
   ]
  },
  {
   "cell_type": "markdown",
   "metadata": {},
   "source": [
    "<div class=\"alert alert-block alert-info\">\n",
    "\n",
    "# MATPLOTLIB\n"
   ]
  },
  {
   "cell_type": "markdown",
   "metadata": {},
   "source": [
    "## Plot two 1D arrays (of the same length!) against each other"
   ]
  },
  {
   "cell_type": "code",
   "execution_count": null,
   "metadata": {},
   "outputs": [],
   "source": [
    "arr1 = np.array([1,4,5,10])\n",
    "arr2 = np.array([2,3,6,7])\n",
    "plt.figure(figsize = (5,5))\n",
    "plt.plot(arr1,arr2,'b.-')\n",
    "plt.xlabel(\"Arr1\",size=20)\n",
    "plt.ylabel(\"Arr2\", size=15)\n",
    "plt.title(\"Two 1D arrays\",size=22, color = 'blue', fontweight='bold')\n",
    "plt.grid()"
   ]
  },
  {
   "cell_type": "markdown",
   "metadata": {},
   "source": [
    "## Display 2D array as an image using plt.imshow"
   ]
  },
  {
   "cell_type": "code",
   "execution_count": null,
   "metadata": {},
   "outputs": [],
   "source": [
    "arr2d = np.array([[1,2,3,4,5,6],[4,5,6,7,8,9],[1,2,4,5,6,2]])\n",
    "plt.imshow(arr2d)"
   ]
  }
 ],
 "metadata": {
  "kernelspec": {
   "display_name": "Python 3",
   "language": "python",
   "name": "python3"
  },
  "language_info": {
   "codemirror_mode": {
    "name": "ipython",
    "version": 3
   },
   "file_extension": ".py",
   "mimetype": "text/x-python",
   "name": "python",
   "nbconvert_exporter": "python",
   "pygments_lexer": "ipython3",
   "version": "3.7.3"
  }
 },
 "nbformat": 4,
 "nbformat_minor": 2
}
