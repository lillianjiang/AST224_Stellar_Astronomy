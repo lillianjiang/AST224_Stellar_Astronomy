{
 "cells": [
  {
   "cell_type": "markdown",
   "metadata": {},
   "source": [
    "<div class=\"alert alert-block alert-info\">\n",
    "\n",
    "# Take a Look at Digital Images in FITS Format\n",
    "\n",
    "# Cluster RGC224 and Random Field\n",
    "**imshow, contour **\n",
    "\n",
    "These are the fields we will be analysing this semester. For a first look at them execute \n",
    "each cell in order. Four figure windows will open showing the cluster and the random\n",
    "field in different formats. Look at the images to inform your homework question on cluster vs. fields, \n",
    "the importance of two filters."
   ]
  },
  {
   "cell_type": "code",
   "execution_count": 1,
   "metadata": {},
   "outputs": [],
   "source": [
    "# import packages\n",
    "import numpy as np                    # Numerical Python (numpy) works with arrays and matrices\n",
    "import matplotlib.pyplot as plt       # matplotlib is main plotting library\n",
    "from astropy.io import fits           # this package is for FITS files\n",
    "\n",
    "# colormaps https://matplotlib.org/tutorials/colors/colormaps.html"
   ]
  },
  {
   "cell_type": "code",
   "execution_count": 2,
   "metadata": {},
   "outputs": [],
   "source": [
    "# choose either inline or external (qt) plotting\n",
    "# %matplotlib inline  \n",
    "%matplotlib qt      \n",
    "#  inline plots inside the notebook (i.e., inline = not separate windows)\n",
    "#  qt plots in external interactive window with edit, save options"
   ]
  },
  {
   "cell_type": "markdown",
   "metadata": {},
   "source": [
    "## CLUSTER RGC224"
   ]
  },
  {
   "cell_type": "code",
   "execution_count": 3,
   "metadata": {},
   "outputs": [
    {
     "name": "stdout",
     "output_type": "stream",
     "text": [
      "Cluster Image dimensions\n"
     ]
    },
    {
     "data": {
      "text/plain": [
       "(None, (512, 512), (512, 512))"
      ]
     },
     "execution_count": 3,
     "metadata": {},
     "output_type": "execute_result"
    }
   ],
   "source": [
    "# Open a FITS file, identify header and data \n",
    "# fits files -- be sure they are in current directory!\n",
    "\n",
    "clusterv,header = fits.getdata('rgc224.v.fts', header=True)      #  image is rgc224.v.fits\n",
    "clusterb,header = fits.getdata('rgc224.b.fts', header=True)\n",
    "\n",
    "#header                         #uncomment to print header\n",
    "print('Cluster Image dimensions'), np.shape(clusterv), np.shape(clusterb)"
   ]
  },
  {
   "cell_type": "code",
   "execution_count": 4,
   "metadata": {},
   "outputs": [
    {
     "data": {
      "text/plain": [
       "''"
      ]
     },
     "execution_count": 4,
     "metadata": {},
     "output_type": "execute_result"
    }
   ],
   "source": [
    "# Look at RGC224 with imshow, colormap viridis\n",
    "plt.figure(figsize=(12,9))\n",
    "minint = 1             #lowest intensity in colorbar \n",
    "maxint = 15            #highest intensity in colorbar\n",
    "plt.subplot(1,2,1)\n",
    "plt.imshow(clusterv, vmin=minint, vmax=maxint, cmap='viridis')    \n",
    "plt.colorbar(shrink=0.5)\n",
    "plt.title('V IMAGE RGC 224')\n",
    "\n",
    "plt.subplot(1,2,2)\n",
    "plt.imshow(clusterb, vmin=minint, vmax=maxint, cmap='viridis')    \n",
    "plt.colorbar(shrink=0.5)\n",
    "plt.title('B IMAGE RGC 224')\n",
    ";\n"
   ]
  },
  {
   "cell_type": "code",
   "execution_count": null,
   "metadata": {
    "scrolled": true
   },
   "outputs": [],
   "source": [
    "# look at rgc224 as a contour plot \n",
    "plt.figure(figsize=(10,5))\n",
    "\n",
    "plt.subplot(1,2,1)\n",
    "plt.contour(clusterv,[6], cmap='coolwarm', origin='upper')   # flip origin  to match imshow\n",
    "plt.title('V IMAGE RGC 224')\n",
    "\n",
    "plt.subplot(1,2,2)\n",
    "plt.contour(clusterb,[6], cmap='coolwarm', origin='upper')   # flip origin to match imshow\n",
    "plt.title('B IMAGE RGC 224')\n",
    ";\n"
   ]
  },
  {
   "cell_type": "markdown",
   "metadata": {},
   "source": [
    "## Random Star field"
   ]
  },
  {
   "cell_type": "code",
   "execution_count": null,
   "metadata": {},
   "outputs": [],
   "source": [
    "# Open FITS files, identify header and data \n",
    "# fits files -- be sure they are in current directory!\n",
    "\n",
    "fieldv,header = fits.getdata('field.v.fts', header=True)      \n",
    "fieldb,header = fits.getdata('field.b.fts', header=True)\n",
    "\n",
    "#header                         #uncomment to print header\n",
    "print('Field Image dimensions'), np.shape(fieldv), np.shape(fieldb)"
   ]
  },
  {
   "cell_type": "code",
   "execution_count": null,
   "metadata": {
    "scrolled": true
   },
   "outputs": [],
   "source": [
    "# Look at random field with imshow, colormap viridis\n",
    "plt.figure(figsize=(12,9))\n",
    "minint = 1             #lowest intensity in colorbar \n",
    "maxint = 40            #highest intensity in colorbar\n",
    "plt.subplot(1,2,1)\n",
    "plt.imshow(fieldv, vmin=minint, vmax=maxint, cmap='viridis')    \n",
    "plt.colorbar(shrink=0.5)\n",
    "plt.title('V IMAGE RANDOM FIELD')\n",
    "\n",
    "plt.subplot(1,2,2)\n",
    "plt.imshow(fieldb, vmin=minint, vmax=maxint, cmap='viridis')\n",
    "plt.colorbar(shrink=0.5)\n",
    "plt.title('B IMAGE RANDOM FIELD')\n",
    ";"
   ]
  },
  {
   "cell_type": "code",
   "execution_count": null,
   "metadata": {},
   "outputs": [],
   "source": [
    "# look at field as a contour plot \n",
    "plt.figure(figsize=(10,5))\n",
    "\n",
    "plt.subplot(1,2,1)\n",
    "plt.contour(fieldv,[7], cmap='coolwarm', origin='upper')   # flip origin  to match imshow\n",
    "plt.title('V IMAGE RANDOM FIELD')\n",
    "\n",
    "plt.subplot(1,2,2)\n",
    "plt.contour(fieldb,[7], cmap='coolwarm', origin='upper')   # flip origin to match imshow\n",
    "plt.title('B IMAGE RANDOM FIELD')\n",
    ";\n"
   ]
  },
  {
   "cell_type": "code",
   "execution_count": null,
   "metadata": {},
   "outputs": [],
   "source": []
  }
 ],
 "metadata": {
  "kernelspec": {
   "display_name": "Python 3",
   "language": "python",
   "name": "python3"
  },
  "language_info": {
   "codemirror_mode": {
    "name": "ipython",
    "version": 3
   },
   "file_extension": ".py",
   "mimetype": "text/x-python",
   "name": "python",
   "nbconvert_exporter": "python",
   "pygments_lexer": "ipython3",
   "version": "3.7.3"
  }
 },
 "nbformat": 4,
 "nbformat_minor": 2
}
