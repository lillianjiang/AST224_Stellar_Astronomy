{
 "cells": [
  {
   "cell_type": "code",
   "execution_count": null,
   "metadata": {},
   "outputs": [],
   "source": []
  },
  {
   "cell_type": "markdown",
   "metadata": {},
   "source": [
    "# ARRAYS,  GRAPHS, and LOOPS\n",
    "As you work through this notebook execute cells one at a time (control-enter or shift-enter). Experiment by modifying or adding new ones.  Pay close attention to the syntax and commands -- you will be using them in your own notebooks. After going through this notebook, try the the more extensive commands in the document *Class Python Commands* in ipython interactive terminal mode."
   ]
  },
  {
   "cell_type": "markdown",
   "metadata": {},
   "source": [
    "## DATA ARRAYS with NUMPY\n",
    "\n",
    "Python has very limited mathematical functionality unless you load the data array package known as [numpy](https://www.numpy.org/devdocs/user/quickstart.html) with the IMPORT command. Numpy is the basis of almost all numerical computation in python, providing high level performance for vector, matrix and higher dimensonal data structures. We will mostly be using 1D (vector) and 2D (matrix) data arrays. The handout **Class Python Commands** lists a number of numpy functions you will need. \n",
    "\n",
    "Follow this link to numpy [functions](https://docs.scipy.org/doc/numpy/reference/routines.math.html), also accessed from the Help menu.\n"
   ]
  },
  {
   "cell_type": "code",
   "execution_count": 2,
   "metadata": {},
   "outputs": [],
   "source": [
    "import numpy as np                       # importing numpy should always be in your first code cell."
   ]
  },
  {
   "cell_type": "code",
   "execution_count": 1,
   "metadata": {},
   "outputs": [
    {
     "name": "stdout",
     "output_type": "stream",
     "text": [
      "x =\n",
      "[5, 6, 7]\n",
      "x*3 =\n",
      "[5, 6, 7, 5, 6, 7, 5, 6, 7]\n"
     ]
    },
    {
     "data": {
      "text/plain": [
       "''"
      ]
     },
     "execution_count": 1,
     "metadata": {},
     "output_type": "execute_result"
    }
   ],
   "source": [
    "# An array entered without numpy (called a list) is not useful for math\n",
    "x = [5,6,7]\n",
    "print(\"x =\"), print (x)\n",
    "print(\"x*3 =\"),print (x*3)              # did this multiply each x value by 3?\n",
    ";"
   ]
  },
  {
   "cell_type": "code",
   "execution_count": 4,
   "metadata": {},
   "outputs": [
    {
     "name": "stdout",
     "output_type": "stream",
     "text": [
      "y =\n",
      "[5 6 7]\n",
      "y*3 =\n",
      "[15 18 21]\n"
     ]
    },
    {
     "data": {
      "text/plain": [
       "''"
      ]
     },
     "execution_count": 4,
     "metadata": {},
     "output_type": "execute_result"
    }
   ],
   "source": [
    "# An array entered with numpy is perfect for data manipulation - AFTER importing numpy!\n",
    "y = np.array([5,6,7])                   #correct way to create a 1D array - note notation!\n",
    "print(\"y =\"),print (y)\n",
    "print(\"y*3 =\"),print (y*3)              # did this multiply each y value by 3?                 \n",
    ";"
   ]
  },
  {
   "cell_type": "code",
   "execution_count": 10,
   "metadata": {},
   "outputs": [
    {
     "name": "stdout",
     "output_type": "stream",
     "text": [
      "z =\n",
      "[1 2 3 4]\n",
      "zz =\n",
      "[1. 2. 3. 4. 5.]\n",
      "zzz =\n",
      "[[0.53346722 0.67702014 0.40951543 0.1168901  0.81453608]\n",
      " [0.94000287 0.75773511 0.34769777 0.59657552 0.96563918]\n",
      " [0.40049614 0.87478653 0.99727974 0.43775034 0.25998316]\n",
      " [0.7960977  0.68183088 0.35687074 0.09279256 0.3826969 ]\n",
      " [0.13111857 0.04083403 0.79734752 0.13459123 0.04230352]]\n"
     ]
    },
    {
     "data": {
      "text/plain": [
       "''"
      ]
     },
     "execution_count": 10,
     "metadata": {},
     "output_type": "execute_result"
    }
   ],
   "source": [
    "# Here are some numpy functions dedicated to generating arrays- how do they work? \n",
    "z = np.arange(1,5,1)      \n",
    "print(\"z =\"),print (z)\n",
    "\n",
    "zz = np.linspace(1,5,5)\n",
    "print(\"zz =\"),print (zz)\n",
    "\n",
    "zzz = np.random.rand(5,5)\n",
    "print(\"zzz =\"),print (zzz)\n",
    ";\n",
    "\n"
   ]
  },
  {
   "cell_type": "code",
   "execution_count": 6,
   "metadata": {},
   "outputs": [
    {
     "name": "stdout",
     "output_type": "stream",
     "text": [
      "star =\n",
      "[[ 1  3  5]\n",
      " [ 2 11  6]\n",
      " [ 7  9  4]]\n"
     ]
    },
    {
     "data": {
      "text/plain": [
       "''"
      ]
     },
     "execution_count": 6,
     "metadata": {},
     "output_type": "execute_result"
    }
   ],
   "source": [
    "# enter a 2D array (row x column)\n",
    "star = np.array([[1, 3, 5], [2, 11, 6], [7,9, 4]])    #create 2D array\n",
    "print(\"star =\"), print(star) \n",
    ";"
   ]
  },
  {
   "cell_type": "code",
   "execution_count": 7,
   "metadata": {},
   "outputs": [
    {
     "name": "stdout",
     "output_type": "stream",
     "text": [
      "star_ten =\n",
      "[[ 10  30  50]\n",
      " [ 20 110  60]\n",
      " [ 70  90  40]]\n"
     ]
    },
    {
     "data": {
      "text/plain": [
       "''"
      ]
     },
     "execution_count": 7,
     "metadata": {},
     "output_type": "execute_result"
    }
   ],
   "source": [
    "# make a second 2D array by multiplying each element of star by 10\n",
    "star_ten = star*10\n",
    "print(\"star_ten =\"), print(star_ten)\n",
    ";"
   ]
  },
  {
   "cell_type": "code",
   "execution_count": 8,
   "metadata": {},
   "outputs": [
    {
     "name": "stdout",
     "output_type": "stream",
     "text": [
      " star: # elements, shape, maximum value =\n",
      "9 (3, 3) 11\n"
     ]
    },
    {
     "data": {
      "text/plain": [
       "''"
      ]
     },
     "execution_count": 8,
     "metadata": {},
     "output_type": "execute_result"
    }
   ],
   "source": [
    "# Numpy functions that give the size, shape, max of an array\n",
    "star_size = np.size(star)\n",
    "star_shape = np.shape(star)\n",
    "star_max = np.max(star)\n",
    "print(\" star: # elements, shape, maximum value =\")\n",
    "print(star_size, star_shape, star_max)\n",
    ";"
   ]
  },
  {
   "cell_type": "code",
   "execution_count": 9,
   "metadata": {},
   "outputs": [
    {
     "name": "stdout",
     "output_type": "stream",
     "text": [
      "starpoint = 11\n"
     ]
    }
   ],
   "source": [
    "# you can call for just one value in an array (indexing starts at zero!)\n",
    "starpoint = star[1,1]\n",
    "print('starpoint =', starpoint)"
   ]
  },
  {
   "cell_type": "code",
   "execution_count": 10,
   "metadata": {},
   "outputs": [
    {
     "name": "stdout",
     "output_type": "stream",
     "text": [
      "starsub = \n",
      "[[ 1  3]\n",
      " [ 2 11]]\n"
     ]
    },
    {
     "data": {
      "text/plain": [
       "''"
      ]
     },
     "execution_count": 10,
     "metadata": {},
     "output_type": "execute_result"
    }
   ],
   "source": [
    "# you can extract a sub-array [xmin:xmax, ymin:ymax]\n",
    "starsub = star[0:2, 0:2]\n",
    "print('starsub = '), print(starsub)\n",
    ";"
   ]
  },
  {
   "cell_type": "code",
   "execution_count": 11,
   "metadata": {},
   "outputs": [
    {
     "name": "stdout",
     "output_type": "stream",
     "text": [
      "starcol0 =  [1 2 7]\n",
      "starcol1 =  [ 3 11  9]\n",
      "starcol2 =  [5 6 4]\n"
     ]
    }
   ],
   "source": [
    "# you can extract columns as 1 D arrays (indexing starts at zero!) from a 2D array\n",
    "starcol0 = star[:,0]          # extract column 0 from 2D array star\n",
    "starcol1 = star[:,1]          # extract column 1 from 2D array star\n",
    "starcol2 = star[:,2]          # extract column 2 from 2D array star\n",
    "print('starcol0 = ', starcol0) \n",
    "print('starcol1 = ', starcol1)\n",
    "print('starcol2 = ', starcol2)\n"
   ]
  },
  {
   "cell_type": "code",
   "execution_count": 13,
   "metadata": {},
   "outputs": [
    {
     "name": "stdout",
     "output_type": "stream",
     "text": [
      "[ 2 11  6]\n"
     ]
    }
   ],
   "source": [
    "# ditto for rows\n",
    "starrow1 = star[1,:]         # extract row 1 (2nd row) from 2D array star\n",
    "print(starrow1)"
   ]
  },
  {
   "cell_type": "code",
   "execution_count": 14,
   "metadata": {},
   "outputs": [
    {
     "name": "stdout",
     "output_type": "stream",
     "text": [
      " starrow1: square root, log_10, exp =\n",
      "[1.41421356 3.31662479 2.44948974] [0.30103    1.04139269 0.77815125] [7.38905610e+00 5.98741417e+04 4.03428793e+02]\n"
     ]
    },
    {
     "data": {
      "text/plain": [
       "''"
      ]
     },
     "execution_count": 14,
     "metadata": {},
     "output_type": "execute_result"
    }
   ],
   "source": [
    "# numpy functions square root, log base 10, exp\n",
    "star_sqr = np.sqrt(starrow1)\n",
    "star_log = np.log10(starrow1)\n",
    "star_exp = np.exp(starrow1)\n",
    "\n",
    "print(\" starrow1: square root, log_10, exp =\"), print(star_sqr, star_log, star_exp)\n",
    ";"
   ]
  },
  {
   "cell_type": "code",
   "execution_count": null,
   "metadata": {},
   "outputs": [],
   "source": [
    "# too messy? there are options to print the output with fewer decimals\n",
    "np.set_printoptions(precision=2)    # dont print so many significant figures\n",
    "print(\" starrow1, square root, log_10, exp =\"), print(star_sqr, star_log, star_exp)\n",
    "\n",
    "np.set_printoptions(formatter={'float': lambda x: \"{0:0.2f}\".format(x)}) # print two decimals\n",
    "print(\" starrow1, square root, log_10, exp =\"), print(star_sqr, star_log, star_exp)\n",
    ";"
   ]
  },
  {
   "cell_type": "code",
   "execution_count": 11,
   "metadata": {},
   "outputs": [
    {
     "name": "stdout",
     "output_type": "stream",
     "text": [
      "No variables match your requested type.\n"
     ]
    }
   ],
   "source": [
    "%whos               #what have you created?"
   ]
  },
  {
   "cell_type": "code",
   "execution_count": null,
   "metadata": {},
   "outputs": [],
   "source": [
    "# you can save an array to the current directory with the command savetxt\n",
    "np.savetxt('star.txt',star,fmt='%.2f')\n"
   ]
  },
  {
   "cell_type": "markdown",
   "metadata": {},
   "source": [
    "## GRAPHS\n",
    "For graphs you need to import the package [matplotlib](https://matplotlib.org/contents.html). Here is a [resource](http://jeffskinnerbox.me/notebooks/matplotlib-2d-and-3d-plotting-in-ipython.html) on plotting."
   ]
  },
  {
   "cell_type": "code",
   "execution_count": 15,
   "metadata": {},
   "outputs": [],
   "source": [
    "import matplotlib.pyplot as plt          #this import should typically be in your first cell, along with import numpy"
   ]
  },
  {
   "cell_type": "code",
   "execution_count": 16,
   "metadata": {},
   "outputs": [
    {
     "data": {
      "text/plain": [
       "''"
      ]
     },
     "execution_count": 16,
     "metadata": {},
     "output_type": "execute_result"
    },
    {
     "data": {
      "image/png": "[encoded data removed]",
      "text/plain": [
       "<Figure size 360x360 with 1 Axes>"
      ]
     },
     "metadata": {
      "needs_background": "light"
     },
     "output_type": "display_data"
    }
   ],
   "source": [
    "# Make an (x,y) plot! Specify color, line styles, font size, title, label + legend!\n",
    "plt.figure(figsize = (5,5))\n",
    "plt.plot(starcol1,starcol0,'r*-', linewidth = 2, label='col 0')      \n",
    "plt.plot(starcol1,starcol2,'bs--',markersize = 5, label='col 2')\n",
    "plt.xlabel(\"column 1 of star\",size=20)\n",
    "plt.ylabel(\"another column of star\",size=15)\n",
    "plt.title(\"useless plot\",size=22, color = 'red', fontweight='bold')\n",
    "plt.legend(loc=\"lower right\", frameon=False)\n",
    "\n",
    "######\n",
    "# to SAVE plot to a file in the current diretory, uncomment the next line\n",
    "# plt.savefig('useless.png')   # can also use .jpg\n",
    " \n",
    ";\n",
    "#Many choices for plot symbols, color, line styles , font size, title, legend, see Class Python Commands . "
   ]
  },
  {
   "cell_type": "markdown",
   "metadata": {},
   "source": [
    "# LOOPS\n",
    "Looping allows you to iterate through an array or an equation one element at a time, from a starting point (usually 0) to an ending point (specified by you). In python these are called a \"for-in loop\". The indentation in the loop is required!"
   ]
  },
  {
   "cell_type": "code",
   "execution_count": 17,
   "metadata": {
    "scrolled": true
   },
   "outputs": [
    {
     "name": "stdout",
     "output_type": "stream",
     "text": [
      "0\n",
      "1\n",
      "2\n",
      "3\n",
      "4\n"
     ]
    }
   ],
   "source": [
    "for i in range(5):            #  i increments from 0 to 4 (5 values)\n",
    "    print(i)    #  will loop through all indented lines (indent with tab)"
   ]
  },
  {
   "cell_type": "code",
   "execution_count": 18,
   "metadata": {},
   "outputs": [
    {
     "name": "stdout",
     "output_type": "stream",
     "text": [
      "2\n",
      "11\n",
      "6\n"
     ]
    }
   ],
   "source": [
    "for i in starrow1:            # i increments from 0 through each element in starrow1\n",
    "    print(i)"
   ]
  },
  {
   "cell_type": "code",
   "execution_count": 19,
   "metadata": {},
   "outputs": [
    {
     "name": "stdout",
     "output_type": "stream",
     "text": [
      "0\n",
      "2\n",
      "4\n"
     ]
    }
   ],
   "source": [
    "for i in range(3):             # i increments from 0 to 3\n",
    "    dothis = i * 2             # repeat calculation for each i\n",
    "    print(dothis)"
   ]
  },
  {
   "cell_type": "code",
   "execution_count": null,
   "metadata": {},
   "outputs": [],
   "source": []
  }
 ],
 "metadata": {
  "kernelspec": {
   "display_name": "Python 3",
   "language": "python",
   "name": "python3"
  },
  "language_info": {
   "codemirror_mode": {
    "name": "ipython",
    "version": 3
   },
   "file_extension": ".py",
   "mimetype": "text/x-python",
   "name": "python",
   "nbconvert_exporter": "python",
   "pygments_lexer": "ipython3",
   "version": "3.7.3"
  }
 },
 "nbformat": 4,
 "nbformat_minor": 2
}
