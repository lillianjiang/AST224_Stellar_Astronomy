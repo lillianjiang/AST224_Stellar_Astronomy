{
 "cells": [
  {
   "cell_type": "markdown",
   "metadata": {},
   "source": [
    "<font color='red'>\n",
    "    \n",
    "## Compare Size and Shape of Star A and B from one image\n",
    "\n",
    "</font>"
   ]
  },
  {
   "cell_type": "code",
   "execution_count": null,
   "metadata": {},
   "outputs": [],
   "source": [
    "# import packages\n",
    "import numpy as np                    # Numerical Python (numpy) works with arrays and matrices\n",
    "import matplotlib.pyplot as plt       # matplotlib is main plotting library\n",
    "\n",
    "from mpl_toolkits.mplot3d.axes3d import Axes3D # for 3D surface, linemesh plots\n",
    "\n",
    "# possible colormaps https://scipy.github.io/old-wiki/pages/Cookbook/Matplotlib/Show_colormaps"
   ]
  },
  {
   "cell_type": "markdown",
   "metadata": {},
   "source": [
    "<font color='red'>\n",
    "    \n",
    "## Load Image in ascii (txt) format\n",
    "\n",
    "</font>"
   ]
  },
  {
   "cell_type": "code",
   "execution_count": null,
   "metadata": {
    "scrolled": true
   },
   "outputs": [],
   "source": [
    "# load image: im1 im2, im3, or im4, give average background per pixel\n",
    "im = np.loadtxt(\"im3.txt\")  \n",
    "b3 = 8                      # avg background per pixel for IM from Aperture.ipynb\n",
    "print(np.shape(im))"
   ]
  },
  {
   "cell_type": "code",
   "execution_count": null,
   "metadata": {},
   "outputs": [],
   "source": [
    "#UNCOMMENT ONE OF THESE for inline or external plots \n",
    "# %matplotlib inline shows plots inside the notebook (i.e., inline = not separate windows)\n",
    "# %matplotlib sends plots to external interactive window with edit, save options\n",
    "# %matplotlib inline\n",
    "%matplotlib qt"
   ]
  },
  {
   "cell_type": "markdown",
   "metadata": {},
   "source": [
    "<font color='red'>\n",
    "    \n",
    "## Whole Image with Background Included\n",
    "</font>"
   ]
  },
  {
   "cell_type": "code",
   "execution_count": null,
   "metadata": {},
   "outputs": [],
   "source": [
    "# LOOK at WHOLE IMAGE - row profiles and imshow\n",
    "fig = plt.figure(figsize=(10,5))\n",
    "# IMSHOW\n",
    "plt.subplot(1,2,1)\n",
    "plt.imshow(im,cmap='coolwarm')                      #image\n",
    "plt.title(\"IM3\", size=20)\n",
    "plt.grid()\n",
    "\n",
    "\n",
    "#Row Plots\n",
    "plt.subplot(1,2,2)\n",
    "plt.plot(im, linestyle='-', linewidth=2.5)          # row plots\n",
    "top = np.max(im)\n",
    "plt.xlim(0,23), plt.ylim(-10,top)\n",
    "plt.xlabel(\"Pixel\"), plt.ylabel(\"Intensity\")\n",
    "plt.title(\"IM3 row profiles\", size=20)\n",
    "plt.grid()\n",
    "\n",
    "\n",
    ";"
   ]
  },
  {
   "cell_type": "code",
   "execution_count": null,
   "metadata": {},
   "outputs": [],
   "source": [
    "\n",
    "#SURFACE PLOT of whole image, can be rotated in 3D in qt mode\n",
    "import surface                 #this is calling the function surface.py, found in the HW1 folder\n",
    "surface.makesurface(im)\n",
    ";"
   ]
  },
  {
   "cell_type": "markdown",
   "metadata": {},
   "source": [
    "<font color='red'> \n",
    "    \n",
    "## Extract Subimages for A and B,  remove Background\n",
    "</font>"
   ]
  },
  {
   "cell_type": "code",
   "execution_count": null,
   "metadata": {},
   "outputs": [],
   "source": [
    "#create two 11x11 SUBIMAGES for stars centered at (15,15) and (7,7)\n",
    "starA= im[10:21,10:21]   #A 11x11 array, A now centered at (5,5)\n",
    "starB= im[2:13,2:13]     #B 11x11 array, B now centered at (5,5)\n",
    "\n",
    "#Background subtract each pixel in star subimages\n",
    "starA_b = starA-b3\n",
    "starB_b = starB-b3\n",
    "\n",
    "# EXTRACT central row from each 11x11subarray (row 5 centered is on each star) \n",
    "rowA = starA_b[5,:]       #  row across peak of Star A\n",
    "rowB = starB_b[5,:]       #  row across peak of Star B\n",
    "\n",
    "print (\"Aperture SHAPE = \"), print(np.shape(starA))\n",
    "print (\"Star A\"), print (starA)\n",
    "print (\"Star B\"), print (starB)\n",
    ";"
   ]
  },
  {
   "cell_type": "markdown",
   "metadata": {},
   "source": [
    "<font color='red'>\n",
    "    \n",
    "## Look at subimages and row profiles for both stars\n",
    "</font>"
   ]
  },
  {
   "cell_type": "code",
   "execution_count": null,
   "metadata": {},
   "outputs": [],
   "source": [
    "\n",
    "fig = plt.figure(figsize=(15,5))\n",
    "\n",
    "#Aperture Images with IMSHOW\n",
    "plt.subplot(1,3,1)\n",
    "plt.imshow(starA_b,cmap='coolwarm', vmin=0, vmax = 30)\n",
    "plt.title(\"A , background removed\", size=20)\n",
    "\n",
    "plt.subplot(1,3,2)\n",
    "plt.imshow(starB_b,cmap='coolwarm', vmin=0, vmax = 30)\n",
    "plt.title(\"B , background removed\", size=20)\n",
    "\n",
    "# Stellar Profiles superposed on same plot\n",
    "plt.subplot(1,3,3)\n",
    "plt.plot(rowA, linestyle='-', linewidth=2.5, label = 'A')\n",
    "plt.plot(rowB, linestyle='-', linewidth=2.5, label = 'B')\n",
    "plt.xlabel(\"Pixel\"), plt.ylabel(\"Intensity\")\n",
    "plt.title(\"Peak Profiles, no Background\", size=15)\n",
    "plt.legend(loc=\"upper left\", frameon=False)\n",
    "plt.grid()\n",
    "\n",
    ";\n"
   ]
  },
  {
   "cell_type": "markdown",
   "metadata": {},
   "source": [
    "<font color='red'>\n",
    "\n",
    "# What can you do to further the size and shape comparison?\n",
    "</font>"
   ]
  },
  {
   "cell_type": "code",
   "execution_count": null,
   "metadata": {},
   "outputs": [],
   "source": []
  }
 ],
 "metadata": {
  "kernelspec": {
   "display_name": "Python 3",
   "language": "python",
   "name": "python3"
  },
  "language_info": {
   "codemirror_mode": {
    "name": "ipython",
    "version": 3
   },
   "file_extension": ".py",
   "mimetype": "text/x-python",
   "name": "python",
   "nbconvert_exporter": "python",
   "pygments_lexer": "ipython3",
   "version": "3.7.3"
  }
 },
 "nbformat": 4,
 "nbformat_minor": 2
}
