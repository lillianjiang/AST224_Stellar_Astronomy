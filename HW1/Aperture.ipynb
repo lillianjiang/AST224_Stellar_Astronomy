{
 "cells": [
  {
   "cell_type": "markdown",
   "metadata": {},
   "source": [
    "# APERTURE - enter center, radius\n",
    "# Plot, Find Statistics  in an aperture"
   ]
  },
  {
   "cell_type": "code",
   "execution_count": 1,
   "metadata": {},
   "outputs": [],
   "source": [
    "# import packages\n",
    "import numpy as np                    # Numerical Python (numpy) works with arrays and matrices\n",
    "import matplotlib.pyplot as plt       # matplotlib is main plotting library\n"
   ]
  },
  {
   "cell_type": "code",
   "execution_count": 2,
   "metadata": {},
   "outputs": [
    {
     "name": "stdout",
     "output_type": "stream",
     "text": [
      "Image dimension =(23, 23)\n"
     ]
    },
    {
     "data": {
      "text/plain": [
       "''"
      ]
     },
     "execution_count": 2,
     "metadata": {},
     "output_type": "execute_result"
    },
    {
     "data": {
      "image/png": "[encoded data removed]",
      "text/plain": [
       "<Figure size 720x360 with 2 Axes>"
      ]
     },
     "metadata": {
      "needs_background": "light"
     },
     "output_type": "display_data"
    }
   ],
   "source": [
    "# load FULL IMAGE and display it\n",
    "\n",
    "im = np.loadtxt('im1.txt')             # choose im1, im2, im3, im4\n",
    "dim = np.shape(im)\n",
    "print (\"Image dimension =\" + str(dim) )\n",
    "\n",
    "#IMSHOW\n",
    "plt.figure(figsize=(10,5))\n",
    "plt.imshow(im,cmap='coolwarm', vmin=0, vmax=100)\n",
    "plt.grid()\n",
    "plt.colorbar(shrink=0.7)\n",
    "plt.title('IM 1')\n",
    "\n",
    ";"
   ]
  },
  {
   "cell_type": "markdown",
   "metadata": {},
   "source": [
    "## Query for Aperture"
   ]
  },
  {
   "cell_type": "code",
   "execution_count": 10,
   "metadata": {},
   "outputs": [
    {
     "name": "stdout",
     "output_type": "stream",
     "text": [
      "Enter x coordinate for aperture center :5\n",
      "Enter y coordinate for aperture center :5\n",
      "Enter aperture radius in pixels: 5\n"
     ]
    }
   ],
   "source": [
    "# enter APERTURE center (xc, yc) and radius r on QUERY\n",
    "xc = int(input(\"Enter x coordinate for aperture center :\"))\n",
    "yc = int(input(\"Enter y coordinate for aperture center :\"))\n",
    "rad = int(input(\"Enter aperture radius in pixels: \"))"
   ]
  },
  {
   "cell_type": "markdown",
   "metadata": {},
   "source": [
    "## Look at Aperture"
   ]
  },
  {
   "cell_type": "code",
   "execution_count": 11,
   "metadata": {},
   "outputs": [
    {
     "name": "stdout",
     "output_type": "stream",
     "text": [
      "Aperture Radius = 5\n",
      "Aperture Dimension =(11, 11)\n",
      "[[ 2.  2.  4.  2.  4.  2.  3.  5.  5.  5.  2.]\n",
      " [ 5.  5.  3.  2.  3.  3.  2.  3.  2.  3.  3.]\n",
      " [ 2.  4.  3.  2.  4.  3.  3.  2.  2.  4.  6.]\n",
      " [ 2.  2.  3.  3.  2.  3.  3.  3.  3.  3.  5.]\n",
      " [ 3.  2.  3.  2.  4.  5.  5.  5.  5.  3.  2.]\n",
      " [ 2.  3.  5.  3.  4.  2. 14. 19.  9.  4.  4.]\n",
      " [ 2.  2.  2.  4.  6. 13. 26. 32. 20. 16.  3.]\n",
      " [ 6.  3.  3.  2.  8. 11. 31. 34. 31. 11.  7.]\n",
      " [ 3.  3.  4.  5.  5. 16. 21. 29. 19. 13.  5.]\n",
      " [ 6.  3.  2.  2.  4.  6. 11. 11. 15.  6.  5.]\n",
      " [ 4.  3.  2.  5.  3.  4.  7.  4.  7.  4.  4.]]\n"
     ]
    },
    {
     "data": {
      "text/plain": [
       "''"
      ]
     },
     "execution_count": 11,
     "metadata": {},
     "output_type": "execute_result"
    },
    {
     "data": {
      "image/png": "[encoded data removed]",
      "text/plain": [
       "<Figure size 720x288 with 1 Axes>"
      ]
     },
     "metadata": {
      "needs_background": "light"
     },
     "output_type": "display_data"
    }
   ],
   "source": [
    "#create, display subimage 'aperture' with center, radius\n",
    "center = np.array([xc, yc])          # x,y position of aperture center in original image\n",
    "xmin = xc-rad; xmax = xc+rad+1       # min,max x values to define aperture subarray\n",
    "ymin = yc-rad; ymax = yc+rad+1       # min,max y values to define aperture subarray\n",
    "aperture = im[xmin:xmax, ymin:ymax]  # extract subarray 'aperture' from original image\n",
    "dim_ap = np.shape(aperture)          # dimensions of aperture subarray\n",
    "\n",
    "print (\"Aperture Radius = \" + str(rad))\n",
    "print (\"Aperture Dimension =\" + str(dim_ap) )\n",
    "print(aperture)\n",
    "\n",
    "#DISPLAY\n",
    "plt.figure(figsize=(10,4))\n",
    "plt.imshow(aperture,cmap='OrRd')\n",
    "plt.title('Aperture')\n",
    ";"
   ]
  },
  {
   "cell_type": "code",
   "execution_count": 12,
   "metadata": {},
   "outputs": [
    {
     "name": "stdout",
     "output_type": "stream",
     "text": [
      "Aperture center = [5 5]\n",
      "Aperture radius = 5\n",
      "Aperture dimension = (11, 11)\n",
      "Total counts in aperture = 759.0\n",
      "Total pixels in aperture = 121\n"
     ]
    }
   ],
   "source": [
    "# get stats for aperture\n",
    "sumtot  = np.sum(aperture)            #sum counts in aperture\n",
    "npix    = np.size(aperture)           #total pixels in aperture\n",
    "# print stats\n",
    "print('Aperture center = ' + str(center))       #str converts numerical value to a string for printing\n",
    "print('Aperture radius = ' + str(rad))\n",
    "print('Aperture dimension = ' + str(dim_ap))\n",
    "print('Total counts in aperture = ' + str(sumtot))\n",
    "print('Total pixels in aperture = ' + str(npix))"
   ]
  }
 ],
 "metadata": {
  "kernelspec": {
   "display_name": "Python 3",
   "language": "python",
   "name": "python3"
  },
  "language_info": {
   "codemirror_mode": {
    "name": "ipython",
    "version": 3
   },
   "file_extension": ".py",
   "mimetype": "text/x-python",
   "name": "python",
   "nbconvert_exporter": "python",
   "pygments_lexer": "ipython3",
   "version": "3.7.3"
  }
 },
 "nbformat": 4,
 "nbformat_minor": 2
}
