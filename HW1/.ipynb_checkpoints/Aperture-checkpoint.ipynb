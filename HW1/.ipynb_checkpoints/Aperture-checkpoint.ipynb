{
 "cells": [
  {
   "cell_type": "markdown",
   "metadata": {},
   "source": [
    "# APERTURE - enter center, radius\n",
    "# Plot, Find Statistics "
   ]
  },
  {
   "cell_type": "code",
   "execution_count": null,
   "metadata": {},
   "outputs": [],
   "source": [
    "# import packages\n",
    "import numpy as np                    # Numerical Python (numpy) works with arrays and matrices\n",
    "import matplotlib.pyplot as plt       # matplotlib is main plotting library\n"
   ]
  },
  {
   "cell_type": "code",
   "execution_count": null,
   "metadata": {},
   "outputs": [],
   "source": [
    "# load image and display it\n",
    "\n",
    "im = np.loadtxt('im1.txt')             # choose im1, im2, im3, im4\n",
    "dim = np.shape(im)\n",
    "print (\"Image dimension =\" + str(dim) )\n",
    "plt.imshow(im,cmap='coolwarm', vmin=0, vmax=100)\n",
    "plt.grid()\n",
    "plt.colorbar()\n",
    ";"
   ]
  },
  {
   "cell_type": "markdown",
   "metadata": {},
   "source": [
    "## Query for Aperture"
   ]
  },
  {
   "cell_type": "code",
   "execution_count": null,
   "metadata": {},
   "outputs": [],
   "source": [
    "# enter APERTURE center (xc, yc) and radius r on QUERY\n",
    "xc = int(input(\"Enter x coordinate for aperture center :\"))\n",
    "yc = int(input(\"Enter y coordinate for aperture center :\"))\n",
    "center = np.array([xc, yc])\n",
    "rad = int(input(\"Enter aperture radius in pixels: \"))"
   ]
  },
  {
   "cell_type": "markdown",
   "metadata": {},
   "source": [
    "## Look at Aperture"
   ]
  },
  {
   "cell_type": "code",
   "execution_count": null,
   "metadata": {},
   "outputs": [],
   "source": [
    "#create, display subimage 'aperture' with center, radius\n",
    "xmin = xc-rad; xmax = xc+rad+1       # add 1 to rad so center is xc\n",
    "ymin = yc-rad; ymax = yc+rad+1       # add 1 to rad so center is yc\n",
    "#\n",
    "aperture = im[xmin:xmax, ymin:ymax]     #extract subimage 'aperture' from original image\n",
    "dim_ap = np.shape(aperture)\n",
    "print (\"Aperture Dimension =\" + str(dim_ap) )\n",
    "print(aperture)\n",
    "plt.imshow(aperture,cmap='OrRd')\n",
    "\n",
    ";"
   ]
  },
  {
   "cell_type": "code",
   "execution_count": null,
   "metadata": {},
   "outputs": [],
   "source": [
    "# Plot aperture rows\n",
    "xlen = dim_ap[0]       # retrieve length of aperture from np.shape output above\n",
    "rowpix=np.arange(xlen) # array holding sequential pixel number along aperture length\n",
    "\n",
    "for i in range(xlen):   # plot all rows by looping through each row, 0 to x\n",
    "    row=aperture[i,:]\n",
    "    plt.plot(rowpix,row,'*-')\n",
    "    plt.xlabel('pixel number')\n",
    "    plt.ylabel('counts')\n",
    "    plt.title('Aperture Rows')\n",
    "    plt.legend(rowpix)\n",
    "\n"
   ]
  },
  {
   "cell_type": "code",
   "execution_count": null,
   "metadata": {},
   "outputs": [],
   "source": [
    "# get stats for aperture\n",
    "boxsize = np.shape(aperture)          #dimensions of aperture\n",
    "sumtot  = np.sum(aperture)            #sum counts in aperture\n",
    "npix    = np.size(aperture)           #total pixels in aperture\n",
    "# print stats\n",
    "print('Aperture center = ' + str(center))       #str converts numerical value to a string for printing\n",
    "print('Aperture radius = ' + str(rad))\n",
    "print('Aperture dimension = ' + str(boxsize))\n",
    "print('Total counts in aperture = ' + str(sumtot))\n",
    "print('Total pixels in aperture = ' + str(npix))"
   ]
  },
  {
   "cell_type": "code",
   "execution_count": null,
   "metadata": {},
   "outputs": [],
   "source": []
  }
 ],
 "metadata": {
  "kernelspec": {
   "display_name": "Python 3",
   "language": "python",
   "name": "python3"
  },
  "language_info": {
   "codemirror_mode": {
    "name": "ipython",
    "version": 3
   },
   "file_extension": ".py",
   "mimetype": "text/x-python",
   "name": "python",
   "nbconvert_exporter": "python",
   "pygments_lexer": "ipython3",
   "version": "3.7.3"
  }
 },
 "nbformat": 4,
 "nbformat_minor": 2
}
