{
 "cells": [
  {
   "cell_type": "markdown",
   "metadata": {},
   "source": [
    "<font color=red>\n",
    "\n",
    "# a function of two variables can be evaluated by using MESHGRID to create two input 2D arrays  \n",
    "</font>"
   ]
  },
  {
   "cell_type": "code",
   "execution_count": 1,
   "metadata": {},
   "outputs": [],
   "source": [
    "import numpy as np                       #numpy enables functions for data arrays\n",
    "import matplotlib.pyplot as plt          #matplotlib enables plotting routines\n"
   ]
  },
  {
   "cell_type": "markdown",
   "metadata": {},
   "source": [
    "<font color=red>\n",
    "    \n",
    "##  First create two input 1-D arrays\n",
    "</font>"
   ]
  },
  {
   "cell_type": "code",
   "execution_count": 2,
   "metadata": {},
   "outputs": [
    {
     "name": "stdout",
     "output_type": "stream",
     "text": [
      "temp =  [10 20 30]\n",
      "wave = [100 200 300 400 500]\n"
     ]
    }
   ],
   "source": [
    "# two 1D arrays, temp and wave, determine the function B_dummy = wave / temp\n",
    "# each has a range of values, entered as an array\n",
    "\n",
    "temp = np.arange(10, 40, 10)         # 1x3 1D array\n",
    "wave = np.arange(100, 600, 100)        # 1x5 1 D array\n",
    "print(\"temp = \",temp)\n",
    "print(\"wave =\",wave)\n",
    "\n",
    "\n"
   ]
  },
  {
   "cell_type": "markdown",
   "metadata": {},
   "source": [
    "<font color=red>\n",
    "    \n",
    "# Meshgrid turns the two 1-D arrays of different sizes into two 2-D arrays of identical sizes\n",
    "</font>"
   ]
  },
  {
   "cell_type": "code",
   "execution_count": 3,
   "metadata": {},
   "outputs": [
    {
     "name": "stdout",
     "output_type": "stream",
     "text": [
      "shape Temp = (5, 3)\n",
      "Temp =\n",
      "[[10 20 30]\n",
      " [10 20 30]\n",
      " [10 20 30]\n",
      " [10 20 30]\n",
      " [10 20 30]]\n",
      "shape Wave = (5, 3)\n",
      "Wave = \n",
      "[[100 100 100]\n",
      " [200 200 200]\n",
      " [300 300 300]\n",
      " [400 400 400]\n",
      " [500 500 500]]\n"
     ]
    }
   ],
   "source": [
    "# meshgrid command will create two new 2-d arrays from temp and wave\n",
    "# these 2d arrays will be used to calculate B_dummy element by element\n",
    "\n",
    "Temp, Wave = np.meshgrid(temp,wave)        # create new arrays Temp, Wave\n",
    "print(\"shape Temp =\", np.shape(Temp)), print(\"Temp =\")\n",
    "print(Temp)                                 # Temp has 5 rows with 3 temp values\n",
    "print(\"shape Wave =\",np.shape(Wave)), print(\"Wave = \") \n",
    "print(Wave)                                 # Wave has 3 columns with 5 wave values\n",
    "\n"
   ]
  },
  {
   "cell_type": "markdown",
   "metadata": {},
   "source": [
    "<font color=red>\n",
    "    \n",
    "# The two 2-D arrays are used to calculate a function at each pair of input values\n",
    "</font>"
   ]
  },
  {
   "cell_type": "code",
   "execution_count": null,
   "metadata": {},
   "outputs": [],
   "source": [
    "# calculate B_dummy for each element in the matrices:  5 values of wave and 3 values of temp\n",
    "################\n",
    "B_dummy = Wave * Temp\n",
    "print(\"shape B_dummy =\", np.shape(B_dummy)), print(\"B_dummy =\")\n",
    "print(B_dummy)\n",
    "###################\n",
    "# the first column is B_dummy for the first temp at all wave values\n",
    "# the second column is B_dummy for the second temp at all wave values\n",
    "# the third column is B_dummy for the third temp at all wave values\n",
    ";"
   ]
  },
  {
   "cell_type": "markdown",
   "metadata": {},
   "source": [
    "# Plot function vs. one variable with second variable  in legend "
   ]
  },
  {
   "cell_type": "code",
   "execution_count": null,
   "metadata": {},
   "outputs": [],
   "source": [
    "# plot B_dummy as a function of wave for each temp\n",
    "plt.figure(figsize=(10,10))\n",
    "plt.plot(wave, B_dummy,'*-', markersize = 15)\n",
    "plt.ylabel(\"B_dummy \", size=15)\n",
    "plt.xlabel(\"wave\",size=15)\n",
    "plt.title('B_dummy from meshgrid', size = 25)\n",
    "plt.grid()\n",
    "\n",
    "# add legend with temp values\n",
    "labels = (temp)\n",
    "plt.legend(labels)\n",
    "# if there are a lot of temps this can get messy - see next cell for alternate approach\n",
    "\n",
    ";"
   ]
  },
  {
   "cell_type": "markdown",
   "metadata": {},
   "source": [
    "# As an alternate to long legends...  Introduce 'ax' figure commands - note changes from above!\n",
    "\n",
    "- figure is named\n",
    "- ax invoked with subplot\n",
    "- ax.annotate places text on plot in (x,y) coords where values are given as fraction of full range\n",
    "- there are MANY plot commands that use the ax syntax"
   ]
  },
  {
   "cell_type": "code",
   "execution_count": null,
   "metadata": {},
   "outputs": [],
   "source": [
    "# plot B_dummy as a function of wave for each temp\n",
    "fig = plt.figure(figsize=(10,10))              # figure is given name fig\n",
    "ax = fig.add_subplot(1,1,1)                      #CALL AX, for one plot in figure subplot(1,1,1)\n",
    "\n",
    "plt.plot(wave, B_dummy,'*-', markersize = 15)\n",
    "plt.ylabel(\"B_dummy \", size=15)\n",
    "plt.xlabel(\"wave\",size=15)\n",
    "plt.title('B_dummy from meshgrid', size = 25)\n",
    "plt.grid()\n",
    "\n",
    "# now you can use AX commands in plotting - there are many others...\n",
    "ax.annotate( 'Tmin= %s' %temp[0], (.1, .9), xycoords='axes fraction', size=15, color='green')\n",
    "ax.annotate( 'Tmax= %s' %temp[2], (.1, .85), xycoords='axes fraction', size=15, color='green')\n",
    "\n",
    ";"
   ]
  },
  {
   "cell_type": "code",
   "execution_count": null,
   "metadata": {},
   "outputs": [],
   "source": []
  }
 ],
 "metadata": {
  "kernelspec": {
   "display_name": "Python 3",
   "language": "python",
   "name": "python3"
  },
  "language_info": {
   "codemirror_mode": {
    "name": "ipython",
    "version": 3
   },
   "file_extension": ".py",
   "mimetype": "text/x-python",
   "name": "python",
   "nbconvert_exporter": "python",
   "pygments_lexer": "ipython3",
   "version": "3.7.3"
  }
 },
 "nbformat": 4,
 "nbformat_minor": 2
}
