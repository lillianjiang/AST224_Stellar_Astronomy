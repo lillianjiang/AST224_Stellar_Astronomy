{
 "cells": [
  {
   "cell_type": "markdown",
   "metadata": {},
   "source": [
    "<font color=red>\n",
    "\n",
    "# a function of two variables can be evaluated by using MESHGRID to create two input 2D arrays  \n",
    "</font>"
   ]
  },
  {
   "cell_type": "code",
   "execution_count": 1,
   "metadata": {},
   "outputs": [],
   "source": [
    "import numpy as np                       #numpy enables functions for data arrays\n",
    "import matplotlib.pyplot as plt          #matplotlib enables plotting routines\n"
   ]
  },
  {
   "cell_type": "markdown",
   "metadata": {},
   "source": [
    "<font color=red>\n",
    "\n",
    "# Constants in cgs units\n",
    "</font>"
   ]
  },
  {
   "cell_type": "code",
   "execution_count": 2,
   "metadata": {},
   "outputs": [],
   "source": [
    "#The Planck Constant\n",
    "h = 6.626 * 10**(-27)  #erg*sec\n",
    "\n",
    "#The Boltzmann Constant\n",
    "k = 1.381 * 10**(-16)  #erg/K\n",
    "\n",
    "#Speed of light\n",
    "c = 2.998 * 10**(10)   #cm/sec"
   ]
  },
  {
   "cell_type": "markdown",
   "metadata": {},
   "source": [
    "<font color=red>\n",
    "    \n",
    "##  First create two input 1-D arrays\n",
    "</font>"
   ]
  },
  {
   "cell_type": "code",
   "execution_count": 3,
   "metadata": {},
   "outputs": [],
   "source": [
    "# two 1D arrays, temp and wave, determine the function B_dummy = wave / temp\n",
    "# each has a range of values, entered as an array\n",
    "\n",
    "temp = np.arange(1000, 10000, 1000)         \n",
    "#in nm unit\n",
    "lambdaRange_nm = np.arange(100,5000,100)\n",
    "#convert into cm\n",
    "lambdaRange_cm = lambdaRange_nm*(1e-7)\n"
   ]
  },
  {
   "cell_type": "markdown",
   "metadata": {},
   "source": [
    "<font color=red>\n",
    "    \n",
    "# Meshgrid turns the two 1-D arrays of different sizes into two 2-D arrays of identical sizes\n",
    "</font>"
   ]
  },
  {
   "cell_type": "code",
   "execution_count": 4,
   "metadata": {},
   "outputs": [
    {
     "name": "stdout",
     "output_type": "stream",
     "text": [
      "shape temp = (49, 9)\n",
      "temp =\n"
     ]
    },
    {
     "ename": "NameError",
     "evalue": "name 'Temp' is not defined",
     "output_type": "error",
     "traceback": [
      "\u001b[0;31m---------------------------------------------------------------------------\u001b[0m",
      "\u001b[0;31mNameError\u001b[0m                                 Traceback (most recent call last)",
      "\u001b[0;32m<ipython-input-4-ca6d691d3edd>\u001b[0m in \u001b[0;36m<module>\u001b[0;34m\u001b[0m\n\u001b[1;32m      4\u001b[0m \u001b[0mtemp\u001b[0m\u001b[0;34m,\u001b[0m \u001b[0mWaveRange\u001b[0m \u001b[0;34m=\u001b[0m \u001b[0mnp\u001b[0m\u001b[0;34m.\u001b[0m\u001b[0mmeshgrid\u001b[0m\u001b[0;34m(\u001b[0m\u001b[0mtemp\u001b[0m\u001b[0;34m,\u001b[0m\u001b[0mlambdaRange_cm\u001b[0m\u001b[0;34m)\u001b[0m        \u001b[0;31m# create new arrays Temp, Wave\u001b[0m\u001b[0;34m\u001b[0m\u001b[0;34m\u001b[0m\u001b[0m\n\u001b[1;32m      5\u001b[0m \u001b[0mprint\u001b[0m\u001b[0;34m(\u001b[0m\u001b[0;34m\"shape temp =\"\u001b[0m\u001b[0;34m,\u001b[0m \u001b[0mnp\u001b[0m\u001b[0;34m.\u001b[0m\u001b[0mshape\u001b[0m\u001b[0;34m(\u001b[0m\u001b[0mtemp\u001b[0m\u001b[0;34m)\u001b[0m\u001b[0;34m)\u001b[0m\u001b[0;34m,\u001b[0m \u001b[0mprint\u001b[0m\u001b[0;34m(\u001b[0m\u001b[0;34m\"temp =\"\u001b[0m\u001b[0;34m)\u001b[0m\u001b[0;34m\u001b[0m\u001b[0;34m\u001b[0m\u001b[0m\n\u001b[0;32m----> 6\u001b[0;31m \u001b[0mprint\u001b[0m\u001b[0;34m(\u001b[0m\u001b[0mTemp\u001b[0m\u001b[0;34m)\u001b[0m\u001b[0;34m\u001b[0m\u001b[0;34m\u001b[0m\u001b[0m\n\u001b[0m\u001b[1;32m      7\u001b[0m \u001b[0mprint\u001b[0m\u001b[0;34m(\u001b[0m\u001b[0;34m\"shape WaveRange =\"\u001b[0m\u001b[0;34m,\u001b[0m\u001b[0mnp\u001b[0m\u001b[0;34m.\u001b[0m\u001b[0mshape\u001b[0m\u001b[0;34m(\u001b[0m\u001b[0mWaveRange\u001b[0m\u001b[0;34m)\u001b[0m\u001b[0;34m)\u001b[0m\u001b[0;34m,\u001b[0m \u001b[0mprint\u001b[0m\u001b[0;34m(\u001b[0m\u001b[0;34m\"WaveRange = \"\u001b[0m\u001b[0;34m)\u001b[0m\u001b[0;34m\u001b[0m\u001b[0;34m\u001b[0m\u001b[0m\n\u001b[1;32m      8\u001b[0m \u001b[0mprint\u001b[0m\u001b[0;34m(\u001b[0m\u001b[0mWaveRange\u001b[0m\u001b[0;34m)\u001b[0m\u001b[0;34m\u001b[0m\u001b[0;34m\u001b[0m\u001b[0m\n",
      "\u001b[0;31mNameError\u001b[0m: name 'Temp' is not defined"
     ]
    }
   ],
   "source": [
    "# meshgrid command will create two new 2-d arrays from temp and wave\n",
    "# these 2d arrays will be used to calculate B_dummy element by element\n",
    "\n",
    "temp, WaveRange = np.meshgrid(temp,lambdaRange_cm)        # create new arrays Temp, Wave\n",
    "print(\"shape temp =\", np.shape(temp)), print(\"temp =\")\n",
    "print(Temp)     \n",
    "print(\"shape WaveRange =\",np.shape(WaveRange)), print(\"WaveRange = \") \n",
    "print(WaveRange)                               "
   ]
  },
  {
   "cell_type": "markdown",
   "metadata": {},
   "source": [
    "<font color=red>\n",
    "    \n",
    "# The two 2-D arrays are used to calculate a function at each pair of input values\n",
    "</font>"
   ]
  },
  {
   "cell_type": "code",
   "execution_count": null,
   "metadata": {},
   "outputs": [],
   "source": [
    "calc_top = 2*h*c**2\n",
    "expo = (h*c)/(WaveRange*k*temp)\n",
    "calc_bot = (WaveRange**5)*(np.exp(expo)-1)\n",
    "planck_result_cm = calc_top/calc_bot\n",
    "\n",
    "#convert back into nm\n",
    "planck_result_nm = planck_result_cm/(1e+7)**3"
   ]
  },
  {
   "cell_type": "markdown",
   "metadata": {},
   "source": [
    "# Plot function vs. one variable with second variable  in legend "
   ]
  },
  {
   "cell_type": "code",
   "execution_count": null,
   "metadata": {},
   "outputs": [],
   "source": [
    "# plot B_dummy as a function of wave for each temp\n",
    "plt.figure(figsize=(10,10))\n",
    "plt.plot(lambdaRange_nm, planck_result_nm,'*-', markersize = 15)\n",
    "plt.ylabel(\"Intensity \", size=15)\n",
    "plt.xlabel(\"wave\",size=15)\n",
    "plt.title('Planck Function from meshgrid', size = 25)\n",
    "plt.grid()\n",
    "\n",
    "# add legend with temp values\n",
    "labels = (temp)\n",
    "plt.legend(labels)\n",
    "# if there are a lot of temps this can get messy - see next cell for alternate approach\n",
    "\n"
   ]
  },
  {
   "cell_type": "markdown",
   "metadata": {},
   "source": [
    "# As an alternate to long legends...  Introduce 'ax' figure commands - note changes from above!\n",
    "\n",
    "- figure is named\n",
    "- ax invoked with subplot\n",
    "- ax.annotate places text on plot in (x,y) coords where values are given as fraction of full range\n",
    "- there are MANY plot commands that use the ax syntax"
   ]
  },
  {
   "cell_type": "code",
   "execution_count": null,
   "metadata": {},
   "outputs": [],
   "source": [
    "# plot B_dummy as a function of wave for each temp\n",
    "fig = plt.figure(figsize=(10,10))              # figure is given name fig\n",
    "ax = fig.add_subplot(1,1,1)                      #CALL AX, for one plot in figure subplot(1,1,1)\n",
    "\n",
    "plt.plot(lambdaRange_nm, B_dummy,'*-', markersize = 15)\n",
    "plt.ylabel(\"B_dummy \", size=15)\n",
    "plt.xlabel(\"wave\",size=15)\n",
    "plt.title('B_dummy from meshgrid', size = 25)\n",
    "plt.grid()\n",
    "\n",
    "# now you can use AX commands in plotting - there are many others...\n",
    "ax.annotate( 'Tmin= %s' %temp[0], (.1, .9), xycoords='axes fraction', size=15, color='green')\n",
    "ax.annotate( 'Tmax= %s' %temp[2], (.1, .85), xycoords='axes fraction', size=15, color='green')\n",
    "\n",
    ";"
   ]
  },
  {
   "cell_type": "code",
   "execution_count": null,
   "metadata": {},
   "outputs": [],
   "source": []
  }
 ],
 "metadata": {
  "kernelspec": {
   "display_name": "Python 3",
   "language": "python",
   "name": "python3"
  },
  "language_info": {
   "codemirror_mode": {
    "name": "ipython",
    "version": 3
   },
   "file_extension": ".py",
   "mimetype": "text/x-python",
   "name": "python",
   "nbconvert_exporter": "python",
   "pygments_lexer": "ipython3",
   "version": "3.7.3"
  }
 },
 "nbformat": 4,
 "nbformat_minor": 2
}
