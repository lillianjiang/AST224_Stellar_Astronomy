{
 "cells": [
  {
   "cell_type": "code",
   "execution_count": 1,
   "metadata": {},
   "outputs": [],
   "source": [
    "import numpy as np                       #numpy enables functions for data arrays\n",
    "import matplotlib.pyplot as plt          #matplotlib enables plotting routines\n",
    "%matplotlib inline"
   ]
  },
  {
   "cell_type": "markdown",
   "metadata": {},
   "source": [
    "<div class=\"alert alert-block alert-warning\">\n",
    "\n",
    "# make short array called test"
   ]
  },
  {
   "cell_type": "code",
   "execution_count": 2,
   "metadata": {},
   "outputs": [
    {
     "name": "stdout",
     "output_type": "stream",
     "text": [
      "length of test = 7\n",
      "test =  [-3 -2 -1  0  1  2  3]\n"
     ]
    }
   ],
   "source": [
    "test = np.arange(-3,4,1)\n",
    "print('length of test =',np.size(test))\n",
    "print('test = ',test)\n"
   ]
  },
  {
   "cell_type": "markdown",
   "metadata": {},
   "source": [
    "<div class=\"alert alert-block alert-success\">\n",
    "\n",
    "# method 1 to find index where array value = 1 \n",
    "## specify \"desired\" value in array\n",
    "## np.argmin() returns index of minimum value in array 'test-desired'"
   ]
  },
  {
   "cell_type": "code",
   "execution_count": 3,
   "metadata": {},
   "outputs": [
    {
     "name": "stdout",
     "output_type": "stream",
     "text": [
      "index = 4\n",
      "value of test[4] = 1\n"
     ]
    }
   ],
   "source": [
    "desired = 1\n",
    "index = (np.abs(test-desired)).argmin()\n",
    "print('index =',index)\n",
    "print('value of test[4] =',test[index])"
   ]
  },
  {
   "cell_type": "markdown",
   "metadata": {},
   "source": [
    "<div class=\"alert alert-block alert-info\">\n",
    "\n",
    "# method 2 to find index where array value = 1\n",
    "## specify 'desired' value in array\n",
    "## loop through all values in array,  use if statement to locate index through minvalue"
   ]
  },
  {
   "cell_type": "code",
   "execution_count": 4,
   "metadata": {},
   "outputs": [
    {
     "name": "stdout",
     "output_type": "stream",
     "text": [
      "index = 4\n",
      "value of test[index] = 1\n"
     ]
    }
   ],
   "source": [
    "desired = 1\n",
    "minvalue = 1\n",
    "index = 0\n",
    "for x in range(len(test)):\n",
    "    if (abs(desired - test[x]) < minvalue):\n",
    "        minvalue = 1 - test[x]\n",
    "        index = x\n",
    "        \n",
    "print('index =',index)\n",
    "print('value of test[index] =',test[index])"
   ]
  },
  {
   "cell_type": "markdown",
   "metadata": {},
   "source": [
    "## to see how method 2  works, look at print statements in the loop"
   ]
  },
  {
   "cell_type": "code",
   "execution_count": 5,
   "metadata": {},
   "outputs": [
    {
     "name": "stdout",
     "output_type": "stream",
     "text": [
      "x= 0\n",
      "minvalue= 1\n",
      "index= 0\n",
      "\n",
      "x= 1\n",
      "minvalue= 1\n",
      "index= 0\n",
      "\n",
      "x= 2\n",
      "minvalue= 1\n",
      "index= 0\n",
      "\n",
      "x= 3\n",
      "minvalue= 1\n",
      "index= 0\n",
      "\n",
      "x= 4\n",
      "minvalue= 1\n",
      "index= 0\n",
      "\n",
      "x= 5\n",
      "minvalue= 0\n",
      "index= 4\n",
      "\n",
      "x= 6\n",
      "minvalue= 0\n",
      "index= 4\n",
      "\n"
     ]
    }
   ],
   "source": [
    "desired = 1\n",
    "minvalue = 1\n",
    "index = 0\n",
    "for x in range(len(test)):\n",
    "    print('x=',x)\n",
    "    print('minvalue=',minvalue)\n",
    "    print('index=',index)\n",
    "    print('')\n",
    "    if (abs(1 - test[x]) < minvalue):\n",
    "        minvalue = 1 - test[x]\n",
    "        index = x\n",
    "        "
   ]
  },
  {
   "cell_type": "code",
   "execution_count": 6,
   "metadata": {},
   "outputs": [
    {
     "name": "stdout",
     "output_type": "stream",
     "text": [
      "index  = 4\n",
      "value of test[4] = 1\n"
     ]
    }
   ],
   "source": [
    "print('index  =',index)\n",
    "print('value of test[4] =',test[index])"
   ]
  }
 ],
 "metadata": {
  "kernelspec": {
   "display_name": "Python 3",
   "language": "python",
   "name": "python3"
  },
  "language_info": {
   "codemirror_mode": {
    "name": "ipython",
    "version": 3
   },
   "file_extension": ".py",
   "mimetype": "text/x-python",
   "name": "python",
   "nbconvert_exporter": "python",
   "pygments_lexer": "ipython3",
   "version": "3.7.3"
  }
 },
 "nbformat": 4,
 "nbformat_minor": 2
}
